{
 "cells": [
  {
   "cell_type": "code",
   "execution_count": null,
   "metadata": {
    "collapsed": true
   },
   "outputs": [],
   "source": [
    "import codecs, nltk, string\n",
    "from nltk.corpus import stopwords\n",
    "from nltk.stem.wordnet import WordNetLemmatizer\n",
    "import numpy as np\n",
    "import gensim\n",
    "\n",
    "wordnet_lemmatizer = WordNetLemmatizer()\n",
    "\n",
    "exclude = set(string.punctuation)\n",
    "stop_word_list = stopwords.words('english')\n",
    "\n",
    "small_model = gensim.models.KeyedVectors.load_word2vec_format('../small-embeddings.txt', binary=False)\n",
    "\n",
    "\n",
    "# input should be a string\n",
    "def text_embedding(text):\n",
    "    \n",
    "    #it depends if the words have been lowercased or not\n",
    "    text = text.lower()\n",
    "    \n",
    "    text = nltk.word_tokenize(text)\n",
    "        \n",
    "    text = [token for token in text if token not in exclude and token.isalpha()]\n",
    "    \n",
    "    text = [token for token in text if token not in stop_word_list]\n",
    "\n",
    "    article_embedd = []\n",
    "    \n",
    "    for word in text:\n",
    "            try:\n",
    "                embed_word = small_model[word]\n",
    "                article_embedd.append(embed_word)\n",
    "            except KeyError:\n",
    "                continue\n",
    "\n",
    "    avg = [float(sum(col))/len(col) for col in zip(*article_embedd)]\n",
    "    \n",
    "    # the output is a doc-embedding\n",
    "    return avg\n",
    "\n",
    "\n",
    "# input should be a string\n",
    "def nlp_pipeline(text):\n",
    "    \n",
    "    # if you want you can split in sentences - i'm usually skipping this step\n",
    "    # text = nltk.sent_tokenize(text) \n",
    "    \n",
    "    #tokenize words for each sentence\n",
    "    text = nltk.word_tokenize(text)\n",
    "    \n",
    "    # pos tagger\n",
    "    text = nltk.pos_tag(text)\n",
    "\n",
    "    # lemmatizer\n",
    "    text = [wordnet_lemmatizer.lemmatize(token.lower(),\"v\")if \"V\" in pos else wordnet_lemmatizer.lemmatize(token.lower()) for token,pos in text]\n",
    "    \n",
    "    # remove punctuation and numbers\n",
    "    text = [token for token in text if token not in exclude and token.isalpha()]\n",
    "    \n",
    "    # remove stopwords - be careful with this step    \n",
    "    text = [token for token in text if token not in stop_word_list]\n",
    "    \n",
    "    text = \" \".join(text)\n",
    "    \n",
    "    # the output is text\n",
    "    return text"
   ]
  },
  {
   "cell_type": "code",
   "execution_count": null,
   "metadata": {
    "collapsed": false
   },
   "outputs": [],
   "source": [
    "#topic models, finally!\n",
    "\n",
    "# let's load the dataset\n",
    "dataset = codecs.open(\"dataset.tsv\", \"r\", \"utf-8\").read().strip().split(\"\\n\")\n",
    "\n",
    "corpus = []\n",
    "\n",
    "# you can run wit all data at home\n",
    "for line in dataset[1:1000]:\n",
    "    text = line.split(\"\\t\")[3]\n",
    "    \n",
    "    # for LDA we need tokens not embeddings!\n",
    "    # be careful, each text-processing step you'll do will influence the analysis\n",
    "    text = nlp_pipeline(text).split(\" \")\n",
    "    if len(text)>1:\n",
    "        corpus.append(text)\n",
    "            \n",
    "print (\"ready!\")"
   ]
  },
  {
   "cell_type": "code",
   "execution_count": null,
   "metadata": {
    "collapsed": false
   },
   "outputs": [],
   "source": [
    "from gensim import corpora, models\n",
    "\n",
    "# for running LDA in gensim we need a dictionary of all the words\n",
    "dictionary = corpora.Dictionary(corpus)\n",
    "# and to count the word frequency in each doc\n",
    "X = [dictionary.doc2bow(text) for text in corpus]\n",
    "\n",
    "print (\"ready!\")"
   ]
  },
  {
   "cell_type": "code",
   "execution_count": null,
   "metadata": {
    "collapsed": false
   },
   "outputs": [],
   "source": [
    "ldamodel = models.ldamodel.LdaModel(X, num_topics=30, id2word = dictionary, iterations=500)\n",
    "print (\"done!\")"
   ]
  },
  {
   "cell_type": "code",
   "execution_count": null,
   "metadata": {
    "collapsed": false
   },
   "outputs": [],
   "source": [
    "for topic in ldamodel.print_topics(num_words=5):\n",
    "    print (topic)"
   ]
  },
  {
   "cell_type": "code",
   "execution_count": null,
   "metadata": {
    "collapsed": true
   },
   "outputs": [],
   "source": [
    "# homework - implement the word intrusion evaluation task!"
   ]
  },
  {
   "cell_type": "code",
   "execution_count": null,
   "metadata": {
    "collapsed": true
   },
   "outputs": [],
   "source": []
  },
  {
   "cell_type": "code",
   "execution_count": null,
   "metadata": {
    "collapsed": false
   },
   "outputs": [],
   "source": [
    "# first of all, an explanation\n",
    "from sklearn import cross_validation\n",
    "import codecs\n",
    "import numpy as np\n",
    "import warnings\n",
    "warnings.filterwarnings(\"ignore\")\n",
    "\n",
    "\n",
    "dataset = codecs.open(\"dataset.tsv\", \"r\", \"utf-8\").read().strip().split(\"\\n\")\n",
    "\n",
    "corpus = []\n",
    "labels =  []\n",
    "\n",
    "# we load the first 30 lines of our dataset \n",
    "for line in dataset[1:100]:\n",
    "    # the topic, like \"usa\" \"uk\", etc is the label that we want to predict\n",
    "    label = line.split(\"\\t\")[2]\n",
    "    text = line.split(\"\\t\")[3]\n",
    "    corpus.append(text)\n",
    "    labels.append(label)\n",
    "\n",
    "# again, we use np arrays as they are more efficient\n",
    "X = np.array(corpus)\n",
    "y = np.array(labels) \n",
    "    \n",
    "# we use 10 fold cross validation, and we say to consider the labels (y) when splitting\n",
    "kf_total = cross_validation.StratifiedKFold(y, n_folds=10, shuffle=True)\n",
    "\n",
    "    \n",
    "    "
   ]
  },
  {
   "cell_type": "code",
   "execution_count": null,
   "metadata": {
    "collapsed": false
   },
   "outputs": [],
   "source": [
    "# what does it produce?\n",
    "# let's check it out!\n",
    "\n",
    "# it splits the data in 10 folds (and every time you use 9 for training and 1 for testing)\n",
    "for train, test in kf_total:\n",
    "    # what are here \"train\" and \"test\"?\n",
    "    print (train)\n",
    "    print (test)\n",
    "    break\n",
    "# the numbers in train and test are indices - they mean: \"the element x goes in training, the element y goes in test, etc)"
   ]
  },
  {
   "cell_type": "code",
   "execution_count": null,
   "metadata": {
    "collapsed": true
   },
   "outputs": [],
   "source": [
    "# how do we map now these numbers with real documents?\n",
    "# like this:\n",
    "for train, test in kf_total:\n",
    "    # this means: use the indices in training to create the training and the test set\n",
    "    X_train, X_test = X[train], X[test]\n",
    "    y_train, y_test = y[train], y[test]\n",
    "    \n",
    "    #it's a fast method for taking data using indices, but you can also do like this\n",
    "    X_train = []\n",
    "    y_train = []\n",
    "    for index in train:\n",
    "        #take the element with that index in X\n",
    "        element = X[index]\n",
    "        element_label = y[index]\n",
    "        X_train.append(element)\n",
    "        y_train.append(element_label)\n",
    "    \n",
    "    X_test = []\n",
    "    y_test = []\n",
    "    for index in test:\n",
    "        #take the element with that index in X\n",
    "        element = X[index]\n",
    "        element_label = y[index]\n",
    "        X_test.append(element)\n",
    "        y_test.append(element_label)\n",
    "        "
   ]
  },
  {
   "cell_type": "code",
   "execution_count": null,
   "metadata": {
    "collapsed": true
   },
   "outputs": [],
   "source": []
  },
  {
   "cell_type": "code",
   "execution_count": null,
   "metadata": {
    "collapsed": false
   },
   "outputs": [],
   "source": []
  },
  {
   "cell_type": "code",
   "execution_count": null,
   "metadata": {
    "collapsed": false
   },
   "outputs": [],
   "source": [
    "# let's try to cluster articles\n",
    "\n",
    "# i'm re-loading everything here, because I want to use the titles of the articles to interpret the clusters\n",
    "dataset = codecs.open(\"dataset.tsv\", \"r\", \"utf-8\").read().strip().split(\"\\n\")\n",
    "\n",
    "article = dataset[4].split(\"\\t\")\n",
    "\n",
    "corpus = []\n",
    "titles =  []\n",
    "\n",
    "# you can run wit all data at home\n",
    "for line in dataset[1:1000]:\n",
    "    # to better understands which clusters are created, let's check the titles of the articles\n",
    "    title = line.split(\"\\t\")[1]\n",
    "    text = line.split(\"\\t\")[3]\n",
    "    # you embed the text\n",
    "    text = text_embedding(text)\n",
    "    \n",
    "    if len(text)>0:\n",
    "        corpus.append(text)\n",
    "        titles.append(title)\n",
    "print (\"ready!\")"
   ]
  },
  {
   "cell_type": "code",
   "execution_count": null,
   "metadata": {
    "collapsed": false
   },
   "outputs": [],
   "source": [
    "from sklearn.cluster import KMeans\n",
    "\n",
    "# usual thing, np arrays\n",
    "X = np.array(corpus)\n",
    "y = np.array(titles) \n",
    "\n",
    "# we define kmeans, with 10 clusters (you can change this number and see how the results change)\n",
    "# then we train it using only the documents\n",
    "kmeans = KMeans(n_clusters=10).fit(X)\n"
   ]
  },
  {
   "cell_type": "code",
   "execution_count": null,
   "metadata": {
    "collapsed": false,
    "scrolled": true
   },
   "outputs": [],
   "source": [
    "# these are the labels we obtain\n",
    "kmeans.labels_"
   ]
  },
  {
   "cell_type": "code",
   "execution_count": null,
   "metadata": {
    "collapsed": false
   },
   "outputs": [],
   "source": [
    "# to see which docs are in which clusters, we need to loop over all labels\n",
    "\n",
    "# so the number of clusters\n",
    "for i in range(10):\n",
    "    # print the title of the document if the doc is in this cluster\n",
    "    print (\"this is cluster number\",i)\n",
    "    # then you loop over all titles\n",
    "    for k in range(len(titles)):\n",
    "        \n",
    "        # this is the title\n",
    "        title = titles[k]\n",
    "        \n",
    "        #this is its cluster label\n",
    "        label = kmeans.labels_[k]\n",
    "        \n",
    "        # does it belong to this cluster?\n",
    "        if i == label:\n",
    "            #if yes, then print it out!\n",
    "            print (title)\n",
    "    print (\" \")"
   ]
  },
  {
   "cell_type": "code",
   "execution_count": null,
   "metadata": {
    "collapsed": false
   },
   "outputs": [],
   "source": [
    "# let's count which are the most popular words in the titles of each cluster\n",
    "from collections import Counter\n",
    "\n",
    "for i in range(10):\n",
    "    \n",
    "    # we create a list where we put the words from the titles\n",
    "    title_words = []\n",
    "    \n",
    "    print (\"this is cluster number\",i)\n",
    "    for k in range(len(titles)):\n",
    "        # we clean the title with our pipeline\n",
    "        title = nlp_pipeline(titles[k]).split(\" \")\n",
    "        label = kmeans.labels_[k]\n",
    "        if i == label:\n",
    "            # we put each word in the list\n",
    "            for word in title:\n",
    "                title_words.append(word)\n",
    "    \n",
    "    # then we count and print the 10 most common\n",
    "    most_common = Counter(title_words).most_common(10)\n",
    "    print (most_common)\n",
    "    print (\" \")"
   ]
  },
  {
   "cell_type": "code",
   "execution_count": null,
   "metadata": {
    "collapsed": false
   },
   "outputs": [],
   "source": []
  },
  {
   "cell_type": "code",
   "execution_count": null,
   "metadata": {
    "collapsed": false
   },
   "outputs": [],
   "source": []
  },
  {
   "cell_type": "code",
   "execution_count": null,
   "metadata": {
    "collapsed": false
   },
   "outputs": [],
   "source": []
  },
  {
   "cell_type": "code",
   "execution_count": null,
   "metadata": {
    "collapsed": false
   },
   "outputs": [],
   "source": []
  },
  {
   "cell_type": "code",
   "execution_count": null,
   "metadata": {
    "collapsed": false
   },
   "outputs": [],
   "source": []
  },
  {
   "cell_type": "code",
   "execution_count": null,
   "metadata": {
    "collapsed": false
   },
   "outputs": [],
   "source": []
  },
  {
   "cell_type": "code",
   "execution_count": null,
   "metadata": {
    "collapsed": false
   },
   "outputs": [],
   "source": []
  },
  {
   "cell_type": "code",
   "execution_count": null,
   "metadata": {
    "collapsed": false
   },
   "outputs": [],
   "source": []
  },
  {
   "cell_type": "markdown",
   "metadata": {},
   "source": [
    "\n"
   ]
  },
  {
   "cell_type": "code",
   "execution_count": null,
   "metadata": {
    "collapsed": true
   },
   "outputs": [],
   "source": []
  },
  {
   "cell_type": "code",
   "execution_count": null,
   "metadata": {
    "collapsed": true
   },
   "outputs": [],
   "source": []
  }
 ],
 "metadata": {
  "kernelspec": {
   "display_name": "Python 3",
   "language": "python",
   "name": "python3"
  },
  "language_info": {
   "codemirror_mode": {
    "name": "ipython",
    "version": 3
   },
   "file_extension": ".py",
   "mimetype": "text/x-python",
   "name": "python",
   "nbconvert_exporter": "python",
   "pygments_lexer": "ipython3",
   "version": "3.6.3"
  }
 },
 "nbformat": 4,
 "nbformat_minor": 2
}
