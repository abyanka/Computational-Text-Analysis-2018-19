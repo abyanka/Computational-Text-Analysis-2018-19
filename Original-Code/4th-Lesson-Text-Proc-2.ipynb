{
 "cells": [
  {
   "cell_type": "code",
   "execution_count": 2,
   "metadata": {
    "collapsed": false
   },
   "outputs": [],
   "source": [
    "# open the new dataset\n",
    "\n",
    "import codecs, nltk, string\n",
    "from nltk.corpus import stopwords\n",
    "\n",
    "dataset = codecs.open(\"dataset.tsv\", \"r\", \"utf-8\").read().strip().split(\"\\n\")\n"
   ]
  },
  {
   "cell_type": "code",
   "execution_count": 11,
   "metadata": {
    "collapsed": false
   },
   "outputs": [
    {
     "name": "stdout",
     "output_type": "stream",
     "text": [
      "DAMN Fans took to Twitter in their droves to commend the team and their supporters for their classy performance that many credited as the highlight of Euro-2016 so far. 5\n"
     ]
    }
   ],
   "source": [
    "# take a single article\n",
    "article = dataset[50].split(\"\\t\")[3]\n",
    "\n",
    "\n",
    "# split into sentences\n",
    "sentences = nltk.sent_tokenize(article) \n",
    "\n",
    "# take one single sentence (I'm adding a number at the end - just for testing that stripping numbers work fine)\n",
    "sentence = sentences[4] + \" 5\"\n",
    "\n",
    "print (sentence)\n",
    "\n",
    "# word tokenizer\n",
    "sentence = nltk.word_tokenize(sentence)\n",
    "\n",
    "# lowering words\n",
    "sentence = [word.lower() for word in sentence]\n",
    "\n",
    "# defining stop-words (it's a list)\n",
    "stop_word_list = stopwords.words('english')\n",
    "\n",
    "# removing stopwords\n",
    "sentence = [word for word in sentence if word not in stop_word_list]\n",
    "\n",
    "# defining punctuation to be removed\n",
    "exclude = set(string.punctuation)\n",
    "\n",
    "\n",
    "sentence = [token for token in sentence if token not in exclude]\n",
    "\n",
    "\n",
    "# homework from previous class - were you able to remove punctuation and numbers?"
   ]
  },
  {
   "cell_type": "code",
   "execution_count": 9,
   "metadata": {
    "collapsed": false
   },
   "outputs": [],
   "source": [
    "sentence = [word for word in sentence if word not in exclude]\n",
    "\n"
   ]
  },
  {
   "cell_type": "code",
   "execution_count": 12,
   "metadata": {
    "collapsed": false
   },
   "outputs": [
    {
     "name": "stdout",
     "output_type": "stream",
     "text": [
      "['damn', 'fans', 'took', 'twitter', 'droves', 'commend', 'team', 'supporters', 'classy', 'performance', 'many', 'credited', 'highlight', 'far']\n"
     ]
    }
   ],
   "source": [
    "# keeping words (alpha is a \"word\" not a number)\n",
    "\n",
    "sentence = [word for word in sentence if word.isalpha()]\n",
    "\n",
    "print (sentence)"
   ]
  },
  {
   "cell_type": "code",
   "execution_count": 14,
   "metadata": {
    "collapsed": false
   },
   "outputs": [
    {
     "name": "stdout",
     "output_type": "stream",
     "text": [
      "['damn', 'fans', 'took', 'twitter', 'droves', 'commend', 'team', 'supporters', 'classy', 'performance', 'many', 'credited', 'highlight', 'far']\n",
      "['damn', 'fan', 'took', 'twitter', 'drove', 'commend', 'team', 'support', 'classi', 'perform', 'mani', 'credit', 'highlight', 'far']\n"
     ]
    }
   ],
   "source": [
    "# stemming\n",
    "\n",
    "# import the library\n",
    "from nltk.stem import SnowballStemmer\n",
    "snowball_stemmer = SnowballStemmer(\"english\")\n",
    "\n",
    "print (sentence)\n",
    "\n",
    "stem_sentence = [snowball_stemmer.stem(word) for word in sentence]\n",
    "\n",
    "print (stem_sentence)"
   ]
  },
  {
   "cell_type": "code",
   "execution_count": 15,
   "metadata": {
    "collapsed": false
   },
   "outputs": [
    {
     "name": "stdout",
     "output_type": "stream",
     "text": [
      "['damn', 'fan', 'took', 'twitter', 'drove', 'commend', 'team', 'supporter', 'classy', 'performance', 'many', 'credited', 'highlight', 'far']\n"
     ]
    }
   ],
   "source": [
    "# lemmatization\n",
    "\n",
    "from nltk.stem.wordnet import WordNetLemmatizer\n",
    "\n",
    "wordnet_lemmatizer = WordNetLemmatizer()\n",
    "\n",
    "lemma_sent = [wordnet_lemmatizer.lemmatize(word) for word in sentence]\n",
    "\n",
    "print (lemma_sent)"
   ]
  },
  {
   "cell_type": "code",
   "execution_count": 20,
   "metadata": {
    "collapsed": false
   },
   "outputs": [
    {
     "name": "stdout",
     "output_type": "stream",
     "text": [
      "[('DAMN', 'NNP'), ('Fans', 'NNS'), ('took', 'VBD'), ('to', 'TO'), ('Twitter', 'NNP'), ('in', 'IN'), ('their', 'PRP$'), ('droves', 'NNS'), ('to', 'TO'), ('commend', 'VB'), ('the', 'DT'), ('team', 'NN'), ('and', 'CC'), ('their', 'PRP$'), ('supporters', 'NNS'), ('for', 'IN'), ('their', 'PRP$'), ('classy', 'JJ'), ('performance', 'NN'), ('that', 'IN'), ('many', 'JJ'), ('credited', 'VBD'), ('as', 'IN'), ('the', 'DT'), ('highlight', 'NN'), ('of', 'IN'), ('Euro-2016', 'NNP'), ('so', 'IN'), ('far', 'RB'), ('.', '.')]\n"
     ]
    }
   ],
   "source": [
    "#POS tagging\n",
    "# http://www.nltk.org/book/ch05.html\n",
    "\n",
    "# we need to use the original sentence\n",
    "\n",
    "sentence = nltk.word_tokenize(sentences[4])\n",
    "\n",
    "# you use the pos-tagger (it gives you back a list of tuples (word,pos))\n",
    "pos_sentence = nltk.pos_tag(sentence)\n",
    "\n",
    "print (pos_sentence)"
   ]
  },
  {
   "cell_type": "code",
   "execution_count": 21,
   "metadata": {
    "collapsed": false
   },
   "outputs": [
    {
     "name": "stdout",
     "output_type": "stream",
     "text": [
      "['damn', 'fan', 'take', 'to', 'twitter', 'in', 'their', 'drove', 'to', 'commend', 'the', 'team', 'and', 'their', 'supporter', 'for', 'their', 'classy', 'performance', 'that', 'many', 'credit', 'a', 'the', 'highlight', 'of', 'euro-2016', 'so', 'far', '.']\n"
     ]
    }
   ],
   "source": [
    "# combining lemmatization and pos tagging\n",
    "\n",
    "lemma_word = []\n",
    "\n",
    "for word,pos in pos_sentence:\n",
    "    # we lower-case the word (for lemmatization)\n",
    "    word = word.lower()\n",
    "    \n",
    "    # if it's a verb - then we tell that to the lemmatizer\n",
    "    if \"V\" in pos:\n",
    "        lemma = wordnet_lemmatizer.lemmatize(word,\"v\")\n",
    "    else:\n",
    "    # otherwise, work as usual\n",
    "        lemma = wordnet_lemmatizer.lemmatize(word)\n",
    "    # we append the results\n",
    "    lemma_word.append(lemma)\n",
    "print (lemma_word)\n",
    "\n",
    "\n",
    "#homework - try to write this with a list comprehension"
   ]
  },
  {
   "cell_type": "code",
   "execution_count": null,
   "metadata": {
    "collapsed": false
   },
   "outputs": [],
   "source": []
  },
  {
   "cell_type": "code",
   "execution_count": null,
   "metadata": {
    "collapsed": false
   },
   "outputs": [],
   "source": [
    "# named entity recognition\n",
    "\n",
    "article = dataset[50].split(\"\\t\")[3]\n",
    "\n",
    "article = nltk.word_tokenize(article)\n",
    "\n",
    "# you use the pos-tagger (it gives you back a list of tuples (word,pos))\n",
    "pos_article = nltk.pos_tag(article)\n",
    "\n",
    "ner = nltk.ne_chunk(pos_article)\n",
    "\n",
    "ner = [x for x in ner if type(x) == nltk.tree.Tree]\n",
    "print (ner)"
   ]
  },
  {
   "cell_type": "code",
   "execution_count": null,
   "metadata": {
    "collapsed": true
   },
   "outputs": [],
   "source": [
    "\n"
   ]
  },
  {
   "cell_type": "code",
   "execution_count": null,
   "metadata": {
    "collapsed": false
   },
   "outputs": [],
   "source": []
  },
  {
   "cell_type": "code",
   "execution_count": null,
   "metadata": {
    "collapsed": false
   },
   "outputs": [],
   "source": []
  },
  {
   "cell_type": "code",
   "execution_count": null,
   "metadata": {
    "collapsed": false,
    "scrolled": true
   },
   "outputs": [],
   "source": []
  },
  {
   "cell_type": "code",
   "execution_count": null,
   "metadata": {
    "collapsed": false
   },
   "outputs": [],
   "source": []
  },
  {
   "cell_type": "code",
   "execution_count": null,
   "metadata": {
    "collapsed": false
   },
   "outputs": [],
   "source": []
  },
  {
   "cell_type": "code",
   "execution_count": null,
   "metadata": {
    "collapsed": false
   },
   "outputs": [],
   "source": []
  },
  {
   "cell_type": "code",
   "execution_count": null,
   "metadata": {
    "collapsed": false
   },
   "outputs": [],
   "source": [
    "\n"
   ]
  },
  {
   "cell_type": "code",
   "execution_count": null,
   "metadata": {
    "collapsed": false
   },
   "outputs": [],
   "source": []
  },
  {
   "cell_type": "code",
   "execution_count": null,
   "metadata": {
    "collapsed": true
   },
   "outputs": [],
   "source": []
  },
  {
   "cell_type": "code",
   "execution_count": null,
   "metadata": {
    "collapsed": false
   },
   "outputs": [],
   "source": []
  },
  {
   "cell_type": "code",
   "execution_count": null,
   "metadata": {
    "collapsed": true
   },
   "outputs": [],
   "source": []
  }
 ],
 "metadata": {
  "kernelspec": {
   "display_name": "Python 3",
   "language": "python",
   "name": "python3"
  },
  "language_info": {
   "codemirror_mode": {
    "name": "ipython",
    "version": 3
   },
   "file_extension": ".py",
   "mimetype": "text/x-python",
   "name": "python",
   "nbconvert_exporter": "python",
   "pygments_lexer": "ipython3",
   "version": "3.6.0"
  }
 },
 "nbformat": 4,
 "nbformat_minor": 0
}
