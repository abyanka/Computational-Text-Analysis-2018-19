{
 "cells": [
  {
   "cell_type": "markdown",
   "metadata": {},
   "source": [
    "how did it go with the homeworks?"
   ]
  },
  {
   "cell_type": "code",
   "execution_count": null,
   "metadata": {
    "collapsed": true
   },
   "outputs": [],
   "source": [
    "import codecs, nltk, string\n",
    "from nltk.corpus import stopwords\n",
    "from nltk.stem.wordnet import WordNetLemmatizer\n",
    "\n",
    "exclude = set(string.punctuation)\n",
    "stop_word_list = stopwords.words('english')\n",
    "\n",
    "# input should be a string - we need a simple pipeline for getting word embeddings\n",
    "def nlp_simple_pipeline(text):\n",
    "    \n",
    "    #it depends if the words have been lowercased or not\n",
    "    text = text.lower()\n",
    "    \n",
    "    text = nltk.word_tokenize(text)\n",
    "        \n",
    "    text = [token for token in text if token not in exclude and token.isalpha()]\n",
    "    \n",
    "    text = [token for token in text if token not in stop_word_list]\n",
    "\n",
    "    return text"
   ]
  },
  {
   "cell_type": "code",
   "execution_count": null,
   "metadata": {
    "collapsed": false
   },
   "outputs": [],
   "source": [
    "# for the people with the big file\n",
    "\n",
    "#word2vec tutorial: https://rare-technologies.com/word2vec-tutorial/\n",
    "\n",
    "import gensim, logging\n",
    "\n",
    "# put path to the big file\n",
    "model = gensim.models.KeyedVectors.load_word2vec_format('/Users/federiconanni/WordEmbeddings/GoogleNews-vectors-negative300.bin.gz', binary=True)\n"
   ]
  },
  {
   "cell_type": "code",
   "execution_count": null,
   "metadata": {
    "collapsed": true
   },
   "outputs": [],
   "source": []
  },
  {
   "cell_type": "code",
   "execution_count": null,
   "metadata": {
    "collapsed": false
   },
   "outputs": [],
   "source": [
    "# for the people with the small file\n",
    "\n",
    "import gensim, logging\n",
    "# the model is organized like this: word = embeddings\n",
    "small_model = gensim.models.KeyedVectors.load_word2vec_format('small-embeddings.txt', binary=False)\n"
   ]
  },
  {
   "cell_type": "code",
   "execution_count": null,
   "metadata": {
    "collapsed": false
   },
   "outputs": [],
   "source": [
    "#to see the embeddings of a word, you just do:\n",
    "\n",
    "print (small_model[\"clinton\"])\n",
    "print (small_model[\"obama\"])"
   ]
  },
  {
   "cell_type": "code",
   "execution_count": null,
   "metadata": {
    "collapsed": false
   },
   "outputs": [],
   "source": []
  },
  {
   "cell_type": "code",
   "execution_count": null,
   "metadata": {
    "collapsed": false
   },
   "outputs": [],
   "source": [
    "#finding similar words\n",
    "\n",
    "small_model.wv.most_similar(positive=['Obama'])"
   ]
  },
  {
   "cell_type": "code",
   "execution_count": null,
   "metadata": {
    "collapsed": false
   },
   "outputs": [],
   "source": [
    "# get relatedness\n",
    "\n",
    "print (small_model.wv.similarity('clinton', 'clinton'))\n",
    "print (small_model.wv.similarity('clinton', 'obama'))"
   ]
  },
  {
   "cell_type": "code",
   "execution_count": null,
   "metadata": {
    "collapsed": false
   },
   "outputs": [],
   "source": [
    "# you can represent the meaning of an article, by the average of their embeddings\n",
    "# let's compute the embeddings for an article\n",
    "\n",
    "dataset = codecs.open(\"dataset.tsv\", \"r\", \"utf-8\").read().strip().split(\"\\n\")\n",
    "\n",
    "article = dataset[4].split(\"\\t\")[3]\n",
    "\n",
    "cleaned_article = nlp_simple_pipeline(article)\n",
    "print (cleaned_article)"
   ]
  },
  {
   "cell_type": "code",
   "execution_count": null,
   "metadata": {
    "collapsed": false
   },
   "outputs": [],
   "source": [
    "# for each word, load embeddings\n",
    "for word in cleaned_article:\n",
    "    print (word)\n",
    "    embed_word = small_model[word]\n"
   ]
  },
  {
   "cell_type": "code",
   "execution_count": null,
   "metadata": {
    "collapsed": false
   },
   "outputs": [],
   "source": [
    "# handling exceptions\n",
    "for word in cleaned_article:\n",
    "    try:\n",
    "        embed_word = small_model[word]\n",
    "    except KeyError:\n",
    "        print (word)\n",
    "        continue"
   ]
  },
  {
   "cell_type": "code",
   "execution_count": null,
   "metadata": {
    "collapsed": false,
    "scrolled": true
   },
   "outputs": [],
   "source": [
    "# representing the meaning of an article as a single embedding\n",
    "\n",
    "def article_embedding(cleaned_article):\n",
    "    \n",
    "    article_embedd = []\n",
    "    # for each word in the article, you take the embeddings\n",
    "    for word in cleaned_article:\n",
    "        try:\n",
    "            embed_word = small_model[word]\n",
    "            article_embedd.append(embed_word)\n",
    "        except KeyError:\n",
    "            continue\n",
    "    \n",
    "    # average vectors of all words\n",
    "    avg = [float(sum(col))/len(col) for col in zip(*article_embedd)]\n",
    "    return avg"
   ]
  },
  {
   "cell_type": "markdown",
   "metadata": {},
   "source": [
    "homework: write a single function that takes an article, cleans the article and creates the article-embeddings"
   ]
  },
  {
   "cell_type": "code",
   "execution_count": null,
   "metadata": {
    "collapsed": false
   },
   "outputs": [],
   "source": [
    "#dictionary of article embeddings\n",
    "articles_embeddings = {}\n",
    "\n",
    "# you can limit this to the first 100 articles with\n",
    "#for k in range(len(dataset[:100])):\n",
    "\n",
    "for k in range(len(dataset[:1000])):\n",
    "    article = dataset[k]\n",
    "    title = article.split(\"\\t\")[1]\n",
    "    cleaned_article = nlp_simple_pipeline(article)\n",
    "    embed_art = article_embedding(cleaned_article)\n",
    "    articles_embeddings[str(k)] = {\"title\":title,\"embed\":embed_art}\n"
   ]
  },
  {
   "cell_type": "code",
   "execution_count": null,
   "metadata": {
    "collapsed": false
   },
   "outputs": [],
   "source": [
    "our_article_embedd = articles_embeddings[\"4\"][\"embed\"]\n",
    "print (our_article_embedd)"
   ]
  },
  {
   "cell_type": "code",
   "execution_count": null,
   "metadata": {
    "collapsed": false,
    "scrolled": true
   },
   "outputs": [],
   "source": [
    "import warnings\n",
    "warnings.filterwarnings('ignore')\n",
    "from sklearn.metrics.pairwise import cosine_similarity\n",
    "\n",
    "\n",
    "ranking = []\n",
    "\n",
    "for article,values in articles_embeddings.items():\n",
    "    similarity_score = cosine_similarity(values[\"embed\"],our_article_embedd)[0][0]\n",
    "    ranking.append([values[\"title\"],similarity_score])"
   ]
  },
  {
   "cell_type": "code",
   "execution_count": null,
   "metadata": {
    "collapsed": false
   },
   "outputs": [],
   "source": [
    "ranking.sort(key=lambda x: x[1],reverse=True)"
   ]
  },
  {
   "cell_type": "code",
   "execution_count": null,
   "metadata": {
    "collapsed": false
   },
   "outputs": [],
   "source": [
    "for el,score in ranking[:10]:\n",
    "    print (el,score)"
   ]
  },
  {
   "cell_type": "code",
   "execution_count": null,
   "metadata": {
    "collapsed": false
   },
   "outputs": [],
   "source": []
  },
  {
   "cell_type": "code",
   "execution_count": null,
   "metadata": {
    "collapsed": false
   },
   "outputs": [],
   "source": []
  },
  {
   "cell_type": "code",
   "execution_count": null,
   "metadata": {
    "collapsed": false
   },
   "outputs": [],
   "source": []
  },
  {
   "cell_type": "code",
   "execution_count": null,
   "metadata": {
    "collapsed": true
   },
   "outputs": [],
   "source": []
  }
 ],
 "metadata": {
  "kernelspec": {
   "display_name": "Python 3",
   "language": "python",
   "name": "python3"
  },
  "language_info": {
   "codemirror_mode": {
    "name": "ipython",
    "version": 3
   },
   "file_extension": ".py",
   "mimetype": "text/x-python",
   "name": "python",
   "nbconvert_exporter": "python",
   "pygments_lexer": "ipython3",
   "version": "3.6.0"
  }
 },
 "nbformat": 4,
 "nbformat_minor": 0
}
