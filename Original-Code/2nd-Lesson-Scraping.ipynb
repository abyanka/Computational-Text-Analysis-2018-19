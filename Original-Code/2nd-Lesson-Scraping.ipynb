{
 "cells": [
  {
   "cell_type": "markdown",
   "metadata": {},
   "source": [
    "How to get a Twitter API Key: https://twython.readthedocs.io/en/latest/usage/starting_out.html"
   ]
  },
  {
   "cell_type": "code",
   "execution_count": null,
   "metadata": {
    "collapsed": false
   },
   "outputs": [],
   "source": [
    "'''\n",
    "quick recap:\n",
    "\n",
    "- how to print?\n",
    "- what should you remember when using a for loop?\n",
    "- differences between lists and dictionaries?\n",
    "- what is a library?\n",
    "\n",
    "'''\n",
    "\n",
    "\n"
   ]
  },
  {
   "cell_type": "code",
   "execution_count": null,
   "metadata": {
    "collapsed": false
   },
   "outputs": [],
   "source": [
    "#using an API\n",
    "# to install the library:\n",
    "# pip install twython\n",
    "\n",
    "# how to find the documentation, just google name of the library + documentation\n",
    "# this is the twithon documentation: https://twython.readthedocs.io/en/latest/\n",
    "\n",
    "from twython import Twython\n",
    "\n",
    "# please change it \n",
    "twitter_api = Twython(\n",
    "    app_key= '', \n",
    "    app_secret= '' , \n",
    "    oauth_token= '', \n",
    "    oauth_token_secret= '')\n",
    "\n",
    "# here you search - to get them ordered by time, change popular with recent\n",
    "search = twitter_api.search(q='#trump',count=1000,result_type='recent')\n",
    "\n",
    "#search2 = twitter_api.search(q='@realDonaldTrump', count=100,result_type='popular')\n",
    "\n"
   ]
  },
  {
   "cell_type": "code",
   "execution_count": null,
   "metadata": {
    "collapsed": false
   },
   "outputs": [],
   "source": [
    "#what object do we receive back? #read documentation or use:\n",
    "\n",
    "print (type(search))\n"
   ]
  },
  {
   "cell_type": "code",
   "execution_count": null,
   "metadata": {
    "collapsed": false
   },
   "outputs": [],
   "source": [
    "# which keys do we have in the dictionary?\n",
    "\n",
    "print (search.keys())\n"
   ]
  },
  {
   "cell_type": "code",
   "execution_count": null,
   "metadata": {
    "collapsed": false
   },
   "outputs": [],
   "source": [
    "# which object do we have into \"statuses\"?\n",
    "\n",
    "print (type(search[\"statuses\"]))"
   ]
  },
  {
   "cell_type": "code",
   "execution_count": null,
   "metadata": {
    "collapsed": false
   },
   "outputs": [],
   "source": []
  },
  {
   "cell_type": "code",
   "execution_count": null,
   "metadata": {
    "collapsed": false,
    "scrolled": true
   },
   "outputs": [],
   "source": [
    "# we create a new variable, called \"tweets\" and we put the content of \"search[\"statuses\"]\" there \n",
    "\n",
    "tweets = search['statuses']\n",
    "\n",
    "for tweet in tweets:\n",
    "    # each tweet is again a dictionary\n",
    "    print (type(tweet))\n",
    "    \n",
    "    # use this to get the keys\n",
    "    print (tweet.keys())\n",
    "    \n",
    "    # use this to print the content\n",
    "    print (tweet[\"text\"])\n",
    "\n",
    "    #use break to stop the for loop\n",
    "    break"
   ]
  },
  {
   "cell_type": "code",
   "execution_count": null,
   "metadata": {
    "collapsed": false,
    "scrolled": false
   },
   "outputs": [],
   "source": [
    "# we can get the text out\n",
    "\n",
    "tweets_text = []\n",
    "\n",
    "for tweet in tweets:\n",
    "    text = tweet[\"text\"]\n",
    "    \n",
    "    # add tweets to list\n",
    "    tweets_text.append(text)\n",
    "#print (tweets_text)\n",
    "\n",
    "# homework: find and count hashtags in tweets!\n",
    "\n",
    "hashtags = []\n",
    "\n",
    "for tweet in tweets_text:\n",
    "    tweet = tweet.split(\" \")\n",
    "    \n",
    "    for word in tweet:\n",
    "        if \"#\" in word[0]:\n",
    "            print (word)\n",
    "    \n",
    "    \n",
    "    break\n"
   ]
  },
  {
   "cell_type": "code",
   "execution_count": null,
   "metadata": {
    "collapsed": true
   },
   "outputs": [],
   "source": []
  },
  {
   "cell_type": "code",
   "execution_count": null,
   "metadata": {
    "collapsed": false
   },
   "outputs": [],
   "source": [
    "# getting a dataset from Wikipedia\n",
    "\n",
    "# install with \"pip install wikipedia\" if you don't have it installed\n",
    "import wikipedia\n",
    "\n",
    "page = wikipedia.page(\"New York City\")\n",
    "print (page.content)\n",
    "\n",
    "# homework: given a page, find the links\n",
    "# to solve read the documentation of the python library wikipedia online\n"
   ]
  },
  {
   "cell_type": "code",
   "execution_count": null,
   "metadata": {
    "collapsed": false
   },
   "outputs": [],
   "source": [
    "#scraping a website\n",
    "\n",
    "#first step: explore the website and the html \n",
    "# example: http://www.presidency.ucsb.edu\n",
    "\n",
    "import urllib\n",
    "from bs4 import BeautifulSoup\n",
    "\n",
    "# you define a web-page / if you want to scrape more pages, just use a for-loop\n",
    "web_page = \"http://www.presidency.ucsb.edu/executive_orders.php?year=2017&Submit=DISPLAY\"\n",
    "\n",
    "#you request it and open it\n",
    "page = urllib.request.urlopen(web_page)\n",
    "\n",
    "#you read it\n",
    "content = page.read()\n",
    "\n",
    "\n",
    "# then use beautiful soup\n",
    "\n",
    "#homework - try to figure out what I'm doing here, annotate your code\n",
    "soup = BeautifulSoup(content, \"lxml\")\n",
    "\n",
    "lines = soup.findAll(\"tr\")\n",
    "\n",
    "for line in lines:\n",
    "    cells = line.findAll(\"td\")\n",
    "    #check number cells\n",
    "    if len(cells)==3:\n",
    "        prez = cells[0].text\n",
    "        date = cells[1].text\n",
    "        title = cells[2].text\n",
    "        link = cells[2].find(\"a\")\n",
    "        \n",
    "        print prez, title, date, link,\"\\n\""
   ]
  },
  {
   "cell_type": "code",
   "execution_count": null,
   "metadata": {
    "collapsed": false
   },
   "outputs": [],
   "source": [
    "# get textual content - this is for you, if you want to get the text out of the page\n",
    "\n",
    "web_page = \"http://www.presidency.ucsb.edu/ws/index.php?pid=123450\"\n",
    "\n",
    "req = urllib2.Request(web_page)\n",
    "try:\n",
    "    page = urllib2.urlopen(req)\n",
    "except urllib2.HTTPError as e:\n",
    "    print (e.fp.read())\n",
    "    pass\n",
    "\n",
    "content = page.read()\n",
    "\n",
    "soup = BeautifulSoup(content, \"lxml\")\n",
    "\n",
    "paragraphs = soup.findAll(\"span\",{\"class\":\"displaytext\"})\n",
    "\n",
    "for para in paragraphs:\n",
    "    print (para.text)"
   ]
  },
  {
   "cell_type": "code",
   "execution_count": null,
   "metadata": {
    "collapsed": false
   },
   "outputs": [],
   "source": []
  },
  {
   "cell_type": "code",
   "execution_count": null,
   "metadata": {
    "collapsed": false,
    "scrolled": true
   },
   "outputs": [],
   "source": [
    "\n",
    "\n"
   ]
  },
  {
   "cell_type": "code",
   "execution_count": null,
   "metadata": {
    "collapsed": false
   },
   "outputs": [],
   "source": [
    "\n",
    "\n"
   ]
  },
  {
   "cell_type": "code",
   "execution_count": null,
   "metadata": {
    "collapsed": false
   },
   "outputs": [],
   "source": [
    "\n"
   ]
  },
  {
   "cell_type": "code",
   "execution_count": null,
   "metadata": {
    "collapsed": false
   },
   "outputs": [],
   "source": []
  }
 ],
 "metadata": {
  "kernelspec": {
   "display_name": "Python 2",
   "language": "python",
   "name": "python2"
  },
  "language_info": {
   "codemirror_mode": {
    "name": "ipython",
    "version": 2
   },
   "file_extension": ".py",
   "mimetype": "text/x-python",
   "name": "python",
   "nbconvert_exporter": "python",
   "pygments_lexer": "ipython2",
   "version": "2.7.12"
  }
 },
 "nbformat": 4,
 "nbformat_minor": 0
}
