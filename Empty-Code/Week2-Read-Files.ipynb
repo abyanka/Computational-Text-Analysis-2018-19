{
 "cells": [
  {
   "cell_type": "code",
   "execution_count": null,
   "metadata": {
    "collapsed": true
   },
   "outputs": [],
   "source": [
    "# how do we create variables?\n",
    "\n",
    "# how do we do a for loop / if statement?\n",
    "\n",
    "# what is a list?\n"
   ]
  },
  {
   "cell_type": "code",
   "execution_count": null,
   "metadata": {
    "collapsed": false,
    "deletable": true,
    "editable": true
   },
   "outputs": [],
   "source": [
    "# dictionary\n",
    "\n",
    "shopping_bag = {}\n",
    "\n",
    "print (shopping_bag[\"pasta\"])"
   ]
  },
  {
   "cell_type": "code",
   "execution_count": null,
   "metadata": {
    "collapsed": true,
    "deletable": true,
    "editable": true
   },
   "outputs": [],
   "source": [
    "# what is a library?\n",
    "\n",
    "# opening text files\n",
    "# path: ../datasets/speech.txt\n",
    "speech = open()\n",
    "\n",
    "# read a file\n"
   ]
  },
  {
   "cell_type": "code",
   "execution_count": null,
   "metadata": {
    "collapsed": false,
    "deletable": true,
    "editable": true,
    "scrolled": true
   },
   "outputs": [],
   "source": [
    "# split words\n"
   ]
  },
  {
   "cell_type": "code",
   "execution_count": null,
   "metadata": {
    "collapsed": true,
    "deletable": true,
    "editable": true
   },
   "outputs": [],
   "source": [
    "# list comprehension (for lowercase words)\n",
    "\n"
   ]
  },
  {
   "cell_type": "code",
   "execution_count": null,
   "metadata": {
    "collapsed": false,
    "deletable": true,
    "editable": true
   },
   "outputs": [],
   "source": [
    "# you need a library to count faster\n",
    "from collections import Counter\n",
    "\n",
    "counting_words = \n",
    "\n",
    "# print the most common words\n"
   ]
  },
  {
   "cell_type": "code",
   "execution_count": null,
   "metadata": {},
   "outputs": [],
   "source": [
    "\n",
    "# homework\n",
    "# count how many tweets written by Donald Trump (and only by him!) contain the word \"great\"\n",
    "\n",
    "import json\n",
    "\n",
    "with open('trump.json') as f:\n",
    "    tweets = json.load(f)\n",
    "\n",
    "print (len(tweets))\n",
    "\n",
    "for tweet in tweets:\n",
    "    \n",
    "    # ....\n",
    "    # as a starting point check what object is this tweet\n",
    "    # you can do that by using type(tweet)\n",
    "    # then you can also print the tweet but don't forget to use break, otherwise you'll print out all the tweets\n",
    "    \n",
    "    break\n",
    "    "
   ]
  },
  {
   "cell_type": "code",
   "execution_count": null,
   "metadata": {
    "collapsed": false
   },
   "outputs": [],
   "source": [
    "# loop over files in folder - you need a new library\n",
    "import os\n",
    "from bs4 import BeautifulSoup\n",
    "\n",
    "#path \"../datasets/Articles/\"\n",
    "\n",
    "# loop, check if .txt then open\n",
    "\n",
    "        \n",
    "        # look at the original HTML\n",
    "#        soup = str(doc).split(\"<!-- END WAYBACK TOOLBAR INSERT -->\")[1]\n",
    "            \n",
    "#        soup = BeautifulSoup(soup, \"lxml\")\n",
    "\n",
    "        text = \"\"\n",
    "\n",
    "        # simply take all the paragraphs\n",
    "        \n",
    "        break\n",
    "        \n",
    "        # write this out (you need codecs)"
   ]
  },
  {
   "cell_type": "code",
   "execution_count": null,
   "metadata": {
    "collapsed": false
   },
   "outputs": [],
   "source": []
  },
  {
   "cell_type": "code",
   "execution_count": null,
   "metadata": {},
   "outputs": [],
   "source": []
  },
  {
   "cell_type": "code",
   "execution_count": null,
   "metadata": {},
   "outputs": [],
   "source": [
    "\n",
    "    "
   ]
  }
 ],
 "metadata": {
  "kernelspec": {
   "display_name": "Python 2",
   "language": "python",
   "name": "python2"
  },
  "language_info": {
   "codemirror_mode": {
    "name": "ipython",
    "version": 2
   },
   "file_extension": ".py",
   "mimetype": "text/x-python",
   "name": "python",
   "nbconvert_exporter": "python",
   "pygments_lexer": "ipython2",
   "version": "2.7.14"
  }
 },
 "nbformat": 4,
 "nbformat_minor": 2
}
