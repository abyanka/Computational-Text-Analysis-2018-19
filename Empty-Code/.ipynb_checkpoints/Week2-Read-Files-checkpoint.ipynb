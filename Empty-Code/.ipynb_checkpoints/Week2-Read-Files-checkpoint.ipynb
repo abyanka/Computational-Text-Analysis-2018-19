{
 "cells": [
  {
   "cell_type": "code",
   "execution_count": 10,
   "metadata": {
    "collapsed": true
   },
   "outputs": [
    {
     "name": "stdout",
     "output_type": "stream",
     "text": [
      "<type 'int'>\n",
      "(1, <type 'int'>)\n",
      "beer\n"
     ]
    }
   ],
   "source": [
    "# how do we create variables?\n",
    "\n",
    "a = \"pizza\"\n",
    "b = 15\n",
    "a = 5\n",
    "print (type(a))\n",
    "\n",
    "# how do we do a for loop / if statement?\n",
    "\n",
    "for number in range(1,15):\n",
    "    print (number, type(number))\n",
    "    break\n",
    "\n",
    "# what is a list?\n",
    "\n",
    "shopping_list = [\"pasta\", \"beer\",\"ice-cream\",3]\n",
    "print (shopping_list[1])\n"
   ]
  },
  {
   "cell_type": "code",
   "execution_count": 17,
   "metadata": {
    "collapsed": false,
    "deletable": true,
    "editable": true
   },
   "outputs": [
    {
     "name": "stdout",
     "output_type": "stream",
     "text": [
      "1\n"
     ]
    }
   ],
   "source": [
    "# dictionary\n",
    "\n",
    "shopping_bag = {\"pasta\":2,\"beer\":\"radler, pils!\",\"ice-cream\":{\"vanilla\":2,\"chocolate\":1}}\n",
    "\n",
    "print (shopping_bag[\"ice-cream\"][\"chocolate\"])\n",
    "#print (shopping_bag.keys())"
   ]
  },
  {
   "cell_type": "code",
   "execution_count": 21,
   "metadata": {
    "collapsed": true,
    "deletable": true,
    "editable": true
   },
   "outputs": [
    {
     "name": "stdout",
     "output_type": "stream",
     "text": [
      "<type 'str'>\n"
     ]
    }
   ],
   "source": [
    "# what is a library?\n",
    "\n",
    "# opening text files\n",
    "# path: ../datasets/speech.txt\n",
    "speech = open(\"../datasets/speech.txt\",\"r\")\n",
    "\n",
    "# read a file\n",
    "speech = speech.read()\n",
    "print (type(speech))"
   ]
  },
  {
   "cell_type": "code",
   "execution_count": 22,
   "metadata": {
    "collapsed": false,
    "deletable": true,
    "editable": true,
    "scrolled": true
   },
   "outputs": [
    {
     "name": "stdout",
     "output_type": "stream",
     "text": [
      "['Chief', 'Justice', 'Roberts,', 'President', 'Carter,', 'President', 'Clinton,', 'President', 'Bush,', 'President', 'Obama,', 'fellow', 'Americans,', 'and', 'people', 'of', 'the', 'world:', 'Thank', 'you.\\nWe,', 'the', 'citizens', 'of', 'America,', 'are', 'now', 'joined', 'in', 'a', 'great', 'national', 'effort', 'to', 'rebuild', 'our', 'country', 'and', 'restore', 'its', 'promise', 'for', 'all', 'of', 'our', 'people.', 'Together,', 'we', 'will', 'determine', 'the', 'course', 'of', 'America', 'and', 'the', 'world', 'for', 'many,', 'many', 'years', 'to', 'come.', 'We', 'will', 'face', 'challenges,', 'we', 'will', 'confront', 'hardships,', 'but', 'we', 'will', 'get', 'the', 'job', 'done.\\n\\nEvery', '4', 'years,', 'we', 'gather', 'on', 'these', 'steps', 'to', 'carry', 'out', 'the', 'orderly', 'and', 'peaceful', 'transfer', 'of', 'power,', 'and', 'we', 'are', 'grateful', 'to', 'President', 'Obama', 'and', 'First', 'Lady', 'Michelle', 'Obama', 'for', 'their', 'gracious', 'aid', 'throughout', 'this', 'transition.', 'They', 'have', 'been', 'magnificent.', 'Thank', \"you.\\n\\nToday's\", 'ceremony,', 'however,', 'has', 'very', 'special', 'meaning.', 'Because', 'today', 'we', 'are', 'not', 'merely', 'transferring', 'power', 'from', 'one', 'administration', 'to', 'another', 'or', 'from', 'one', 'party', 'to', 'another,', 'but', 'we', 'are', 'transferring', 'power', 'from', 'Washington,', 'DC,', 'and', 'giving', 'it', 'back', 'to', 'you,', 'the', 'people.\\n\\nFor', 'too', 'long,', 'a', 'small', 'group', 'in', 'our', \"Nation's\", 'Capital', 'has', 'reaped', 'the', 'rewards', 'of', 'Government', 'while', 'the', 'people', 'have', 'borne', 'the', 'cost.', 'Washington', 'flourished,', 'but', 'the', 'people', 'did', 'not', 'share', 'in', 'its', 'wealth.', 'Politicians', 'prospered,', 'but', 'the', 'jobs', 'left,', 'and', 'the', 'factories', 'closed.', 'The', 'establishment', 'protected', 'itself,', 'but', 'not', 'the', 'citizens', 'of', 'our', 'country.', 'Their', 'victories', 'have', 'not', 'been', 'your', 'victories;', 'their', 'triumphs', 'have', 'not', 'been', 'your', 'triumphs;', 'and', 'while', 'they', 'celebrated', 'in', 'our', \"Nation's\", 'Capital,', 'there', 'was', 'little', 'to', 'celebrate', 'for', 'struggling', 'families', 'all', 'across', 'our', 'land.\\n\\nThat', 'all', 'changes,', 'starting', 'right', 'here', 'and', 'right', 'now,', 'because', 'this', 'moment', 'is', 'your', 'moment:', 'It', 'belongs', 'to', 'you.', 'It', 'belongs', 'to', 'everyone', 'gathered', 'here', 'today', 'and', 'everyone', 'watching', 'all', 'across', 'America.', 'This', 'is', 'your', 'day.', 'This', 'is', 'your', 'celebration.', 'And', 'this,', 'the', 'United', 'States', 'of', 'America,', 'is', 'your', 'country.\\n\\nWhat', 'truly', 'matters', 'is', 'not', 'which', 'party', 'controls', 'our', 'Government,', 'but', 'whether', 'our', 'Government', 'is', 'controlled', 'by', 'the', 'people.', 'January', '20,', '2017,', 'will', 'be', 'remembered', 'as', 'the', 'day', 'the', 'people', 'became', 'the', 'rulers', 'of', 'this', 'Nation', 'again.', 'The', 'forgotten', 'men', 'and', 'women', 'of', 'our', 'country', 'will', 'be', 'forgotten', 'no', 'longer.', 'Everyone', 'is', 'listening', 'to', 'you', 'now.\\n\\nYou', 'came', 'by', 'the', 'tens', 'of', 'millions', 'to', 'become', 'part', 'of', 'a', 'historic', 'movement', 'the', 'likes', 'of', 'which', 'the', 'world', 'has', 'never', 'seen', 'before.', 'At', 'the', 'center', 'of', 'this', 'movement', 'is', 'a', 'crucial', 'conviction:', 'that', 'a', 'nation', 'exists', 'to', 'serve', 'its', 'citizens.', 'Americans', 'want', 'great', 'schools', 'for', 'their', 'children,', 'safe', 'neighborhoods', 'for', 'their', 'families,', 'and', 'good', 'jobs', 'for', 'themselves.', 'These', 'are', 'just', 'and', 'reasonable', 'demands', 'of', 'righteous', 'people', 'and', 'a', 'righteous', 'public.\\n\\nBut', 'for', 'too', 'many', 'of', 'our', 'citizens,', 'a', 'different', 'reality', 'exists:', 'Mothers', 'and', 'children', 'trapped', 'in', 'poverty', 'in', 'our', 'inner', 'cities;', 'rusted-out', 'factories', 'scattered', 'like', 'tombstones', 'across', 'the', 'landscape', 'of', 'our', 'Nation;', 'an', 'education', 'system,', 'flush', 'with', 'cash,', 'but', 'which', 'leaves', 'our', 'young', 'and', 'beautiful', 'students', 'deprived', 'of', 'all', 'knowledge;', 'and', 'the', 'crime', 'and', 'the', 'gangs', 'and', 'the', 'drugs', 'that', 'have', 'stolen', 'too', 'many', 'lives', 'and', 'robbed', 'our', 'country', 'of', 'so', 'much', 'unrealized', 'potential.\\n\\nThis', 'American', 'carnage', 'stops', 'right', 'here', 'and', 'stops', 'right', 'now.', 'We', 'are', 'one', 'Nation,', 'and', 'their', 'pain', 'is', 'our', 'pain,', 'their', 'dreams', 'are', 'our', 'dreams,', 'and', 'their', 'success', 'will', 'be', 'our', 'success.', 'We', 'share', 'one', 'heart,', 'one', 'home,', 'and', 'one', 'glorious', 'destiny.\\n\\nThe', 'oath', 'of', 'office', 'I', 'take', 'today', 'is', 'an', 'oath', 'of', 'allegiance', 'to', 'all', 'Americans.\\n\\nFor', 'many', 'decades,', \"we've\", 'enriched', 'foreign', 'industry', 'at', 'the', 'expense', 'of', 'American', 'industry,', 'subsidized', 'the', 'armies', 'of', 'other', 'countries', 'while', 'allowing', 'for', 'the', 'very', 'sad', 'depletion', 'of', 'our', 'military.', \"We've\", 'defended', 'other', \"nations'\", 'borders', 'while', 'refusing', 'to', 'defend', 'our', 'own', 'and', 'spent', 'trillions', 'and', 'trillions', 'of', 'dollars', 'overseas', 'while', \"America's\", 'infrastructure', 'has', 'fallen', 'into', 'disrepair', 'and', 'decay.', \"We've\", 'made', 'other', 'countries', 'rich', 'while', 'the', 'wealth,', 'strength,', 'and', 'confidence', 'of', 'our', 'country', 'has', 'dissipated', 'over', 'the', 'horizon.\\n\\nOne', 'by', 'one,', 'the', 'factories', 'shuttered', 'and', 'left', 'our', 'shores,', 'with', 'not', 'even', 'a', 'thought', 'about', 'the', 'millions', 'and', 'millions', 'of', 'American', 'workers', 'that', 'were', 'left', 'behind.', 'The', 'wealth', 'of', 'our', 'middle', 'class', 'has', 'been', 'ripped', 'from', 'their', 'homes', 'and', 'then', 'redistributed', 'all', 'across', 'the', 'world.\\n\\nBut', 'that', 'is', 'the', 'past.', 'And', 'now', 'we', 'are', 'looking', 'only', 'to', 'the', 'future.\\n\\nWe,', 'assembled', 'here', 'today,', 'are', 'issuing', 'a', 'new', 'decree', 'to', 'be', 'heard', 'in', 'every', 'city,', 'in', 'every', 'foreign', 'capital,', 'and', 'in', 'every', 'hall', 'of', 'power.', 'From', 'this', 'day', 'forward,', 'a', 'new', 'vision', 'will', 'govern', 'our', 'land.', 'From', 'this', 'this', 'day', 'forward,', \"it's\", 'going', 'to', 'be', 'only', 'America', 'first.', 'America', 'first.\\n\\nEvery', 'decision', 'on', 'trade,', 'on', 'taxes,', 'on', 'immigration,', 'on', 'foreign', 'affairs,', 'will', 'be', 'made', 'to', 'benefit', 'American', 'workers', 'and', 'American', 'families.\\n\\nWe', 'must', 'protect', 'our', 'borders', 'from', 'the', 'ravages', 'of', 'other', 'countries', 'making', 'our', 'products,', 'stealing', 'our', 'companies,', 'and', 'destroying', 'our', 'jobs.', 'Protection', 'will', 'lead', 'to', 'great', 'prosperity', 'and', 'strength.', 'I', 'will', 'fight', 'for', 'you', 'with', 'every', 'breath', 'in', 'my', 'body,', 'and', 'I', 'will', 'never,', 'ever', 'let', 'you', 'down.\\n\\nAmerica', 'will', 'start', 'winning', 'again,', 'winning', 'like', 'never', 'before.', 'We', 'will', 'bring', 'back', 'our', 'jobs.', 'We', 'will', 'bring', 'back', 'our', 'borders.', 'We', 'will', 'bring', 'back', 'our', 'wealth.', 'And', 'we', 'will', 'bring', 'back', 'our', 'dreams.\\n\\nWe', 'will', 'build', 'new', 'roads', 'and', 'highways', 'and', 'bridges', 'and', 'airports', 'and', 'tunnels', 'and', 'railways', 'all', 'across', 'our', 'wonderful', 'Nation.\\n\\nWe', 'will', 'get', 'our', 'people', 'off', 'of', 'welfare', 'and', 'back', 'to', 'work,', 'rebuilding', 'our', 'country', 'with', 'American', 'hands', 'and', 'American', 'labor.', 'We', 'will', 'follow', 'two', 'simple', 'rules:', 'Buy', 'American', 'and', 'hire', 'American.\\n\\nWe', 'will', 'seek', 'friendship', 'and', 'good', 'will', 'with', 'the', 'nations', 'of', 'the', 'world,', 'but', 'we', 'do', 'so', 'with', 'the', 'understanding', 'that', 'it', 'is', 'the', 'right', 'of', 'all', 'nations', 'to', 'put', 'their', 'own', 'interests', 'first.', 'We', 'do', 'not', 'seek', 'to', 'impose', 'our', 'way', 'of', 'life', 'on', 'anyone,', 'but', 'rather', 'to', 'let', 'it', 'shine', 'as', 'an', 'example\\xe2\\x80\\x94we', 'will', 'shine\\xe2\\x80\\x94for', 'everyone', 'to', 'follow.\\n\\nWe', 'will', 'reinforce', 'old', 'alliances', 'and', 'form', 'new', 'ones', 'and', 'unite', 'the', 'civilized', 'world', 'against', 'radical', 'Islamic', 'terrorism,', 'which', 'we', 'will', 'eradicate', 'completely', 'from', 'the', 'face', 'of', 'the', 'Earth.\\n\\nAt', 'the', 'bedrock', 'of', 'our', 'politics', 'will', 'be', 'a', 'total', 'allegiance', 'to', 'the', 'United', 'States', 'of', 'America,', 'and', 'through', 'our', 'loyalty', 'to', 'our', 'country,', 'we', 'will', 'rediscover', 'our', 'loyalty', 'to', 'each', 'other.', 'When', 'you', 'open', 'your', 'heart', 'to', 'patriotism,', 'there', 'is', 'no', 'room', 'for', 'prejudice.', 'The', 'Bible', 'tells', 'us,', '\"How', 'good', 'and', 'pleasant', 'it', 'is', 'when', \"God's\", 'people', 'live', 'together', 'in', 'unity.\"', 'We', 'must', 'speak', 'our', 'minds', 'openly,', 'debate', 'our', 'disagreements', 'honestly,', 'but', 'always', 'pursue', 'solidarity.', 'When', 'America', 'is', 'united,', 'America', 'is', 'totally', 'unstoppable.', 'There', 'should', 'be', 'no', 'fear:', 'We', 'are', 'protected,', 'and', 'we', 'will', 'always', 'be', 'protected.', 'We', 'will', 'be', 'protected', 'by', 'the', 'great', 'men', 'and', 'women', 'of', 'our', 'military', 'and', 'law', 'enforcement,', 'and', 'most', 'importantly,', 'we', 'will', 'be', 'protected', 'by', 'God.\\n\\nFinally,', 'we', 'must', 'think', 'big', 'and', 'dream', 'even', 'bigger.', 'In', 'America,', 'we', 'understand', 'that', 'a', 'nation', 'is', 'only', 'living', 'as', 'long', 'as', 'it', 'is', 'striving.\\n\\nWe', 'will', 'no', 'longer', 'accept', 'politicians', 'who', 'are', 'all', 'talk', 'and', 'no', 'action,', 'constantly', 'complaining,', 'but', 'never', 'doing', 'anything', 'about', 'it.', 'The', 'time', 'for', 'empty', 'talk', 'is', 'over.', 'Now', 'arrives', 'the', 'hour', 'of', 'action.\\n\\nDo', 'not', 'allow', 'anyone', 'to', 'tell', 'you', 'that', 'it', 'cannot', 'be', 'done.', 'No', 'challenge', 'can', 'match', 'the', 'heart', 'and', 'fight', 'and', 'spirit', 'of', 'America.', 'We', 'will', 'not', 'fail.', 'Our', 'country', 'will', 'thrive', 'and', 'prosper', 'again.\\n\\nWe', 'stand', 'at', 'the', 'birth', 'of', 'a', 'new', 'millennium,', 'ready', 'to', 'unlock', 'the', 'mysteries', 'of', 'space,', 'to', 'free', 'the', 'Earth', 'from', 'the', 'miseries', 'of', 'disease,', 'and', 'to', 'harness', 'the', 'energies,', 'industries,', 'and', 'technologies', 'of', 'tomorrow.', 'A', 'new', 'national', 'pride', 'will', 'stir', 'our', 'souls,', 'lift', 'our', 'sights,', 'and', 'heal', 'our', \"divisions.\\n\\nIt's\", 'time', 'to', 'remember', 'that', 'old', 'wisdom', 'our', 'soldiers', 'will', 'never', 'forget:', 'that', 'whether', 'we', 'are', 'Black', 'or', 'Brown', 'or', 'White,', 'we', 'all', 'bleed', 'the', 'same', 'red', 'blood', 'of', 'patriots,', 'we', 'all', 'enjoy', 'the', 'same', 'glorious', 'freedoms,', 'and', 'we', 'all', 'salute', 'the', 'same', 'great', 'American', 'flag.\\n\\nAnd', 'whether', 'a', 'child', 'is', 'born', 'in', 'the', 'urban', 'sprawl', 'of', 'Detroit', 'or', 'the', 'windswept', 'plains', 'of', 'Nebraska,', 'they', 'look', 'up', 'at', 'the', 'same', 'night', 'sky,', 'they', 'fill', 'their', 'heart', 'with', 'the', 'same', 'dreams,', 'and', 'they', 'are', 'infused', 'with', 'the', 'breath', 'of', 'life', 'by', 'the', 'same', 'almighty', 'Creator.\\n\\nSo', 'to', 'all', 'Americans', 'in', 'every', 'city', 'near', 'and', 'far,', 'small', 'and', 'large,', 'from', 'mountain', 'to', 'mountain,', 'from', 'ocean', 'to', 'ocean,', 'hear', 'these', 'words:', 'You', 'will', 'never', 'be', 'ignored', 'again.', 'Your', 'voice,', 'your', 'hopes,', 'and', 'your', 'dreams', 'will', 'define', 'our', 'American', 'destiny.', 'And', 'your', 'courage', 'and', 'goodness', 'and', 'love', 'will', 'forever', 'guide', 'us', 'along', 'the', 'way.\\n\\nTogether,', 'we', 'will', 'make', 'America', 'strong', 'again.', 'We', 'will', 'make', 'America', 'wealthy', 'again.', 'We', 'will', 'make', 'America', 'proud', 'again.', 'We', 'will', 'make', 'America', 'safe', 'again.\\n\\nAnd,', 'yes,', 'together,', 'we', 'will', 'make', 'America', 'great', 'again.', 'Thank', 'you.', 'God', 'bless', 'you,', 'and', 'God', 'bless', 'America.', 'Thank', 'you.', 'God', 'bless', 'America.']\n"
     ]
    }
   ],
   "source": [
    "# split words\n",
    "split_speech = speech.split(\" \")\n",
    "print (split_speech)"
   ]
  },
  {
   "cell_type": "code",
   "execution_count": 23,
   "metadata": {
    "collapsed": true,
    "deletable": true,
    "editable": true
   },
   "outputs": [
    {
     "name": "stdout",
     "output_type": "stream",
     "text": [
      "['chief', 'justice', 'roberts,', 'president', 'carter,', 'president', 'clinton,', 'president', 'bush,', 'president', 'obama,', 'fellow', 'americans,', 'and', 'people', 'of', 'the', 'world:', 'thank', 'you.\\nwe,', 'the', 'citizens', 'of', 'america,', 'are', 'now', 'joined', 'in', 'a', 'great', 'national', 'effort', 'to', 'rebuild', 'our', 'country', 'and', 'restore', 'its', 'promise', 'for', 'all', 'of', 'our', 'people.', 'together,', 'we', 'will', 'determine', 'the', 'course', 'of', 'america', 'and', 'the', 'world', 'for', 'many,', 'many', 'years', 'to', 'come.', 'we', 'will', 'face', 'challenges,', 'we', 'will', 'confront', 'hardships,', 'but', 'we', 'will', 'get', 'the', 'job', 'done.\\n\\nevery', '4', 'years,', 'we', 'gather', 'on', 'these', 'steps', 'to', 'carry', 'out', 'the', 'orderly', 'and', 'peaceful', 'transfer', 'of', 'power,', 'and', 'we', 'are', 'grateful', 'to', 'president', 'obama', 'and', 'first', 'lady', 'michelle', 'obama', 'for', 'their', 'gracious', 'aid', 'throughout', 'this', 'transition.', 'they', 'have', 'been', 'magnificent.', 'thank', \"you.\\n\\ntoday's\", 'ceremony,', 'however,', 'has', 'very', 'special', 'meaning.', 'because', 'today', 'we', 'are', 'not', 'merely', 'transferring', 'power', 'from', 'one', 'administration', 'to', 'another', 'or', 'from', 'one', 'party', 'to', 'another,', 'but', 'we', 'are', 'transferring', 'power', 'from', 'washington,', 'dc,', 'and', 'giving', 'it', 'back', 'to', 'you,', 'the', 'people.\\n\\nfor', 'too', 'long,', 'a', 'small', 'group', 'in', 'our', \"nation's\", 'capital', 'has', 'reaped', 'the', 'rewards', 'of', 'government', 'while', 'the', 'people', 'have', 'borne', 'the', 'cost.', 'washington', 'flourished,', 'but', 'the', 'people', 'did', 'not', 'share', 'in', 'its', 'wealth.', 'politicians', 'prospered,', 'but', 'the', 'jobs', 'left,', 'and', 'the', 'factories', 'closed.', 'the', 'establishment', 'protected', 'itself,', 'but', 'not', 'the', 'citizens', 'of', 'our', 'country.', 'their', 'victories', 'have', 'not', 'been', 'your', 'victories;', 'their', 'triumphs', 'have', 'not', 'been', 'your', 'triumphs;', 'and', 'while', 'they', 'celebrated', 'in', 'our', \"nation's\", 'capital,', 'there', 'was', 'little', 'to', 'celebrate', 'for', 'struggling', 'families', 'all', 'across', 'our', 'land.\\n\\nthat', 'all', 'changes,', 'starting', 'right', 'here', 'and', 'right', 'now,', 'because', 'this', 'moment', 'is', 'your', 'moment:', 'it', 'belongs', 'to', 'you.', 'it', 'belongs', 'to', 'everyone', 'gathered', 'here', 'today', 'and', 'everyone', 'watching', 'all', 'across', 'america.', 'this', 'is', 'your', 'day.', 'this', 'is', 'your', 'celebration.', 'and', 'this,', 'the', 'united', 'states', 'of', 'america,', 'is', 'your', 'country.\\n\\nwhat', 'truly', 'matters', 'is', 'not', 'which', 'party', 'controls', 'our', 'government,', 'but', 'whether', 'our', 'government', 'is', 'controlled', 'by', 'the', 'people.', 'january', '20,', '2017,', 'will', 'be', 'remembered', 'as', 'the', 'day', 'the', 'people', 'became', 'the', 'rulers', 'of', 'this', 'nation', 'again.', 'the', 'forgotten', 'men', 'and', 'women', 'of', 'our', 'country', 'will', 'be', 'forgotten', 'no', 'longer.', 'everyone', 'is', 'listening', 'to', 'you', 'now.\\n\\nyou', 'came', 'by', 'the', 'tens', 'of', 'millions', 'to', 'become', 'part', 'of', 'a', 'historic', 'movement', 'the', 'likes', 'of', 'which', 'the', 'world', 'has', 'never', 'seen', 'before.', 'at', 'the', 'center', 'of', 'this', 'movement', 'is', 'a', 'crucial', 'conviction:', 'that', 'a', 'nation', 'exists', 'to', 'serve', 'its', 'citizens.', 'americans', 'want', 'great', 'schools', 'for', 'their', 'children,', 'safe', 'neighborhoods', 'for', 'their', 'families,', 'and', 'good', 'jobs', 'for', 'themselves.', 'these', 'are', 'just', 'and', 'reasonable', 'demands', 'of', 'righteous', 'people', 'and', 'a', 'righteous', 'public.\\n\\nbut', 'for', 'too', 'many', 'of', 'our', 'citizens,', 'a', 'different', 'reality', 'exists:', 'mothers', 'and', 'children', 'trapped', 'in', 'poverty', 'in', 'our', 'inner', 'cities;', 'rusted-out', 'factories', 'scattered', 'like', 'tombstones', 'across', 'the', 'landscape', 'of', 'our', 'nation;', 'an', 'education', 'system,', 'flush', 'with', 'cash,', 'but', 'which', 'leaves', 'our', 'young', 'and', 'beautiful', 'students', 'deprived', 'of', 'all', 'knowledge;', 'and', 'the', 'crime', 'and', 'the', 'gangs', 'and', 'the', 'drugs', 'that', 'have', 'stolen', 'too', 'many', 'lives', 'and', 'robbed', 'our', 'country', 'of', 'so', 'much', 'unrealized', 'potential.\\n\\nthis', 'american', 'carnage', 'stops', 'right', 'here', 'and', 'stops', 'right', 'now.', 'we', 'are', 'one', 'nation,', 'and', 'their', 'pain', 'is', 'our', 'pain,', 'their', 'dreams', 'are', 'our', 'dreams,', 'and', 'their', 'success', 'will', 'be', 'our', 'success.', 'we', 'share', 'one', 'heart,', 'one', 'home,', 'and', 'one', 'glorious', 'destiny.\\n\\nthe', 'oath', 'of', 'office', 'i', 'take', 'today', 'is', 'an', 'oath', 'of', 'allegiance', 'to', 'all', 'americans.\\n\\nfor', 'many', 'decades,', \"we've\", 'enriched', 'foreign', 'industry', 'at', 'the', 'expense', 'of', 'american', 'industry,', 'subsidized', 'the', 'armies', 'of', 'other', 'countries', 'while', 'allowing', 'for', 'the', 'very', 'sad', 'depletion', 'of', 'our', 'military.', \"we've\", 'defended', 'other', \"nations'\", 'borders', 'while', 'refusing', 'to', 'defend', 'our', 'own', 'and', 'spent', 'trillions', 'and', 'trillions', 'of', 'dollars', 'overseas', 'while', \"america's\", 'infrastructure', 'has', 'fallen', 'into', 'disrepair', 'and', 'decay.', \"we've\", 'made', 'other', 'countries', 'rich', 'while', 'the', 'wealth,', 'strength,', 'and', 'confidence', 'of', 'our', 'country', 'has', 'dissipated', 'over', 'the', 'horizon.\\n\\none', 'by', 'one,', 'the', 'factories', 'shuttered', 'and', 'left', 'our', 'shores,', 'with', 'not', 'even', 'a', 'thought', 'about', 'the', 'millions', 'and', 'millions', 'of', 'american', 'workers', 'that', 'were', 'left', 'behind.', 'the', 'wealth', 'of', 'our', 'middle', 'class', 'has', 'been', 'ripped', 'from', 'their', 'homes', 'and', 'then', 'redistributed', 'all', 'across', 'the', 'world.\\n\\nbut', 'that', 'is', 'the', 'past.', 'and', 'now', 'we', 'are', 'looking', 'only', 'to', 'the', 'future.\\n\\nwe,', 'assembled', 'here', 'today,', 'are', 'issuing', 'a', 'new', 'decree', 'to', 'be', 'heard', 'in', 'every', 'city,', 'in', 'every', 'foreign', 'capital,', 'and', 'in', 'every', 'hall', 'of', 'power.', 'from', 'this', 'day', 'forward,', 'a', 'new', 'vision', 'will', 'govern', 'our', 'land.', 'from', 'this', 'this', 'day', 'forward,', \"it's\", 'going', 'to', 'be', 'only', 'america', 'first.', 'america', 'first.\\n\\nevery', 'decision', 'on', 'trade,', 'on', 'taxes,', 'on', 'immigration,', 'on', 'foreign', 'affairs,', 'will', 'be', 'made', 'to', 'benefit', 'american', 'workers', 'and', 'american', 'families.\\n\\nwe', 'must', 'protect', 'our', 'borders', 'from', 'the', 'ravages', 'of', 'other', 'countries', 'making', 'our', 'products,', 'stealing', 'our', 'companies,', 'and', 'destroying', 'our', 'jobs.', 'protection', 'will', 'lead', 'to', 'great', 'prosperity', 'and', 'strength.', 'i', 'will', 'fight', 'for', 'you', 'with', 'every', 'breath', 'in', 'my', 'body,', 'and', 'i', 'will', 'never,', 'ever', 'let', 'you', 'down.\\n\\namerica', 'will', 'start', 'winning', 'again,', 'winning', 'like', 'never', 'before.', 'we', 'will', 'bring', 'back', 'our', 'jobs.', 'we', 'will', 'bring', 'back', 'our', 'borders.', 'we', 'will', 'bring', 'back', 'our', 'wealth.', 'and', 'we', 'will', 'bring', 'back', 'our', 'dreams.\\n\\nwe', 'will', 'build', 'new', 'roads', 'and', 'highways', 'and', 'bridges', 'and', 'airports', 'and', 'tunnels', 'and', 'railways', 'all', 'across', 'our', 'wonderful', 'nation.\\n\\nwe', 'will', 'get', 'our', 'people', 'off', 'of', 'welfare', 'and', 'back', 'to', 'work,', 'rebuilding', 'our', 'country', 'with', 'american', 'hands', 'and', 'american', 'labor.', 'we', 'will', 'follow', 'two', 'simple', 'rules:', 'buy', 'american', 'and', 'hire', 'american.\\n\\nwe', 'will', 'seek', 'friendship', 'and', 'good', 'will', 'with', 'the', 'nations', 'of', 'the', 'world,', 'but', 'we', 'do', 'so', 'with', 'the', 'understanding', 'that', 'it', 'is', 'the', 'right', 'of', 'all', 'nations', 'to', 'put', 'their', 'own', 'interests', 'first.', 'we', 'do', 'not', 'seek', 'to', 'impose', 'our', 'way', 'of', 'life', 'on', 'anyone,', 'but', 'rather', 'to', 'let', 'it', 'shine', 'as', 'an', 'example\\xe2\\x80\\x94we', 'will', 'shine\\xe2\\x80\\x94for', 'everyone', 'to', 'follow.\\n\\nwe', 'will', 'reinforce', 'old', 'alliances', 'and', 'form', 'new', 'ones', 'and', 'unite', 'the', 'civilized', 'world', 'against', 'radical', 'islamic', 'terrorism,', 'which', 'we', 'will', 'eradicate', 'completely', 'from', 'the', 'face', 'of', 'the', 'earth.\\n\\nat', 'the', 'bedrock', 'of', 'our', 'politics', 'will', 'be', 'a', 'total', 'allegiance', 'to', 'the', 'united', 'states', 'of', 'america,', 'and', 'through', 'our', 'loyalty', 'to', 'our', 'country,', 'we', 'will', 'rediscover', 'our', 'loyalty', 'to', 'each', 'other.', 'when', 'you', 'open', 'your', 'heart', 'to', 'patriotism,', 'there', 'is', 'no', 'room', 'for', 'prejudice.', 'the', 'bible', 'tells', 'us,', '\"how', 'good', 'and', 'pleasant', 'it', 'is', 'when', \"god's\", 'people', 'live', 'together', 'in', 'unity.\"', 'we', 'must', 'speak', 'our', 'minds', 'openly,', 'debate', 'our', 'disagreements', 'honestly,', 'but', 'always', 'pursue', 'solidarity.', 'when', 'america', 'is', 'united,', 'america', 'is', 'totally', 'unstoppable.', 'there', 'should', 'be', 'no', 'fear:', 'we', 'are', 'protected,', 'and', 'we', 'will', 'always', 'be', 'protected.', 'we', 'will', 'be', 'protected', 'by', 'the', 'great', 'men', 'and', 'women', 'of', 'our', 'military', 'and', 'law', 'enforcement,', 'and', 'most', 'importantly,', 'we', 'will', 'be', 'protected', 'by', 'god.\\n\\nfinally,', 'we', 'must', 'think', 'big', 'and', 'dream', 'even', 'bigger.', 'in', 'america,', 'we', 'understand', 'that', 'a', 'nation', 'is', 'only', 'living', 'as', 'long', 'as', 'it', 'is', 'striving.\\n\\nwe', 'will', 'no', 'longer', 'accept', 'politicians', 'who', 'are', 'all', 'talk', 'and', 'no', 'action,', 'constantly', 'complaining,', 'but', 'never', 'doing', 'anything', 'about', 'it.', 'the', 'time', 'for', 'empty', 'talk', 'is', 'over.', 'now', 'arrives', 'the', 'hour', 'of', 'action.\\n\\ndo', 'not', 'allow', 'anyone', 'to', 'tell', 'you', 'that', 'it', 'cannot', 'be', 'done.', 'no', 'challenge', 'can', 'match', 'the', 'heart', 'and', 'fight', 'and', 'spirit', 'of', 'america.', 'we', 'will', 'not', 'fail.', 'our', 'country', 'will', 'thrive', 'and', 'prosper', 'again.\\n\\nwe', 'stand', 'at', 'the', 'birth', 'of', 'a', 'new', 'millennium,', 'ready', 'to', 'unlock', 'the', 'mysteries', 'of', 'space,', 'to', 'free', 'the', 'earth', 'from', 'the', 'miseries', 'of', 'disease,', 'and', 'to', 'harness', 'the', 'energies,', 'industries,', 'and', 'technologies', 'of', 'tomorrow.', 'a', 'new', 'national', 'pride', 'will', 'stir', 'our', 'souls,', 'lift', 'our', 'sights,', 'and', 'heal', 'our', \"divisions.\\n\\nit's\", 'time', 'to', 'remember', 'that', 'old', 'wisdom', 'our', 'soldiers', 'will', 'never', 'forget:', 'that', 'whether', 'we', 'are', 'black', 'or', 'brown', 'or', 'white,', 'we', 'all', 'bleed', 'the', 'same', 'red', 'blood', 'of', 'patriots,', 'we', 'all', 'enjoy', 'the', 'same', 'glorious', 'freedoms,', 'and', 'we', 'all', 'salute', 'the', 'same', 'great', 'american', 'flag.\\n\\nand', 'whether', 'a', 'child', 'is', 'born', 'in', 'the', 'urban', 'sprawl', 'of', 'detroit', 'or', 'the', 'windswept', 'plains', 'of', 'nebraska,', 'they', 'look', 'up', 'at', 'the', 'same', 'night', 'sky,', 'they', 'fill', 'their', 'heart', 'with', 'the', 'same', 'dreams,', 'and', 'they', 'are', 'infused', 'with', 'the', 'breath', 'of', 'life', 'by', 'the', 'same', 'almighty', 'creator.\\n\\nso', 'to', 'all', 'americans', 'in', 'every', 'city', 'near', 'and', 'far,', 'small', 'and', 'large,', 'from', 'mountain', 'to', 'mountain,', 'from', 'ocean', 'to', 'ocean,', 'hear', 'these', 'words:', 'you', 'will', 'never', 'be', 'ignored', 'again.', 'your', 'voice,', 'your', 'hopes,', 'and', 'your', 'dreams', 'will', 'define', 'our', 'american', 'destiny.', 'and', 'your', 'courage', 'and', 'goodness', 'and', 'love', 'will', 'forever', 'guide', 'us', 'along', 'the', 'way.\\n\\ntogether,', 'we', 'will', 'make', 'america', 'strong', 'again.', 'we', 'will', 'make', 'america', 'wealthy', 'again.', 'we', 'will', 'make', 'america', 'proud', 'again.', 'we', 'will', 'make', 'america', 'safe', 'again.\\n\\nand,', 'yes,', 'together,', 'we', 'will', 'make', 'america', 'great', 'again.', 'thank', 'you.', 'god', 'bless', 'you,', 'and', 'god', 'bless', 'america.', 'thank', 'you.', 'god', 'bless', 'america.']\n"
     ]
    }
   ],
   "source": [
    "# list comprehension (for lowercase words)\n",
    "\n",
    "lower_speech = [word.lower() for word in split_speech]\n",
    "print (lower_speech)"
   ]
  },
  {
   "cell_type": "code",
   "execution_count": 24,
   "metadata": {
    "collapsed": false,
    "deletable": true,
    "editable": true
   },
   "outputs": [
    {
     "name": "stdout",
     "output_type": "stream",
     "text": [
      "[('and', 74), ('the', 70), ('our', 48), ('of', 48), ('will', 43), ('to', 37), ('we', 37), ('is', 20), ('a', 15), ('all', 14), ('in', 14), ('are', 13), ('be', 13), ('for', 12), ('from', 11), ('their', 11), ('your', 11), ('but', 11), ('american', 10), ('america', 10), ('not', 10), ('this', 9), ('that', 9), ('it', 8), ('with', 8), ('people', 7), ('new', 6), ('same', 6), ('great', 6), ('by', 6)]\n"
     ]
    }
   ],
   "source": [
    "# you need a library to count faster\n",
    "from collections import Counter\n",
    "\n",
    "counting_words = Counter(lower_speech)\n",
    "\n",
    "# print the most common words\n",
    "#print (counting_words.most_common(30))"
   ]
  },
  {
   "cell_type": "code",
   "execution_count": null,
   "metadata": {},
   "outputs": [],
   "source": [
    "\n",
    "# homework\n",
    "# count how many tweets written by Donald Trump (and only by him!) contains the word \"great\"\n",
    "\n",
    "import json\n",
    "\n",
    "with open('trump.json') as f:\n",
    "    tweets = json.load(f)\n",
    "\n",
    "print (len(tweets))\n",
    "\n",
    "for tweet in tweets:\n",
    "    \n",
    "    # ....\n",
    "    # as a starting point check what object this tweet is\n",
    "    # you can do that using type(tweet)\n",
    "    # then you can also print the tweet but don't forget to use break, otherwise you'll print out all the tweets\n",
    "    \n",
    "    break\n",
    "    "
   ]
  },
  {
   "cell_type": "code",
   "execution_count": null,
   "metadata": {
    "collapsed": false
   },
   "outputs": [],
   "source": [
    "# loop over files in folder - you need a new library\n",
    "import os\n",
    "from bs4 import BeautifulSoup\n",
    "\n",
    "#path \"../datasets/Articles/\"\n",
    "\n",
    "# loop, check if .txt then open\n",
    "\n",
    "        \n",
    "        # look at the original HTML\n",
    "#        soup = str(doc).split(\"<!-- END WAYBACK TOOLBAR INSERT -->\")[1]\n",
    "            \n",
    "#        soup = BeautifulSoup(soup, \"lxml\")\n",
    "\n",
    "        text = \"\"\n",
    "\n",
    "        # simply take all the paragraphs\n",
    "        \n",
    "        break\n",
    "        \n",
    "        # write this out (you need codecs)"
   ]
  },
  {
   "cell_type": "code",
   "execution_count": null,
   "metadata": {
    "collapsed": false
   },
   "outputs": [],
   "source": []
  },
  {
   "cell_type": "code",
   "execution_count": null,
   "metadata": {},
   "outputs": [],
   "source": []
  },
  {
   "cell_type": "code",
   "execution_count": null,
   "metadata": {},
   "outputs": [],
   "source": [
    "\n",
    "    "
   ]
  }
 ],
 "metadata": {
  "kernelspec": {
   "display_name": "Python 2",
   "language": "python",
   "name": "python2"
  },
  "language_info": {
   "codemirror_mode": {
    "name": "ipython",
    "version": 2
   },
   "file_extension": ".py",
   "mimetype": "text/x-python",
   "name": "python",
   "nbconvert_exporter": "python",
   "pygments_lexer": "ipython2",
   "version": "2.7.14"
  }
 },
 "nbformat": 4,
 "nbformat_minor": 2
}
