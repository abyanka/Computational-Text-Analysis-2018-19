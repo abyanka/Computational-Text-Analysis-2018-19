{
 "cells": [
  {
   "cell_type": "code",
   "execution_count": 7,
   "metadata": {
    "collapsed": false,
    "scrolled": true
   },
   "outputs": [],
   "source": [
    "import codecs, nltk\n",
    "\n",
    "article = codecs.open(\"../datasets/CleanedArticles/15.txt\",\"r\",\"utf-8\")\n",
    "article = article.read()\n",
    "\n",
    "# split into sentences\n",
    "sentences = nltk.sent_tokenize(article) \n"
   ]
  },
  {
   "cell_type": "code",
   "execution_count": 14,
   "metadata": {
    "collapsed": false
   },
   "outputs": [
    {
     "name": "stdout",
     "output_type": "stream",
     "text": [
      "Advertisement By JACEY FORTINDEC.\n",
      "[Tree('ORGANIZATION', [('JACEY', 'NNP')])]\n",
      " \n",
      "31, 2017  In Sydney, rainbow fireworks sparkled off the Harbour Bridge in celebration of Australia’s recent legalization of gay marriage.\n",
      "[Tree('GPE', [('Sydney', 'NNP')]), Tree('ORGANIZATION', [('Harbour', 'NNP'), ('Bridge', 'NNP')]), Tree('GPE', [('Australia', 'NNP')])]\n",
      " \n",
      "(Sydney was among the first major cities to celebrate with fireworks at the stroke of midnight.)\n",
      "[Tree('PERSON', [('Sydney', 'NNP')])]\n",
      " \n",
      "In Japan, people paraded in fox masks to attend the first prayer of the year at a Shinto shrine in Tokyo.\n",
      "[Tree('GPE', [('Japan', 'NNP')]), Tree('ORGANIZATION', [('Shinto', 'NNP')]), Tree('GPE', [('Tokyo', 'NNP')])]\n",
      " \n",
      "In the Philippines, revelers gathered — phones in hand — at the Eastwood Mall in Manila to watch balloons and confetti rain down at midnight.\n",
      "[Tree('ORGANIZATION', [('Philippines', 'NNPS')]), Tree('ORGANIZATION', [('Eastwood', 'NNP'), ('Mall', 'NNP')]), Tree('GPE', [('Manila', 'NNP')])]\n",
      " \n",
      "Big pots of tea were prepared for New Year’s Eve celebrations in Beijing.\n",
      "[Tree('GPE', [('New', 'NNP')]), Tree('GPE', [('Beijing', 'NNP')])]\n",
      " \n",
      "The country will also celebrate the Lunar New Year, in February.\n",
      "[Tree('ORGANIZATION', [('Lunar', 'NNP'), ('New', 'NNP'), ('Year', 'NNP')])]\n",
      " \n",
      "It was raining in Singapore, but New Year’s Eve celebrants sheltered under umbrellas and raincoats as fireworks sparkled overhead.\n",
      "[Tree('GPE', [('Singapore', 'NNP')]), Tree('GPE', [('New', 'NNP')])]\n",
      " \n",
      "Tourists donned party hats to watch fireworks in front of the famous Petronas Twin Towers in Kuala Lumpur, Malaysia.\n",
      "[Tree('PERSON', [('Petronas', 'NNP'), ('Twin', 'NNP'), ('Towers', 'NNP')]), Tree('GPE', [('Kuala', 'NNP'), ('Lumpur', 'NNP')]), Tree('GPE', [('Malaysia', 'NNP')])]\n",
      " \n",
      "Hundreds of couples got married at a mass wedding in Jakarta on New Year’s Eve.\n",
      "[Tree('GPE', [('Jakarta', 'NNP')]), Tree('GPE', [('New', 'NNP')])]\n",
      " \n",
      "We’re interested in your feedback on this page.\n",
      "[]\n",
      " \n",
      "Tell us what you think.\n",
      "[]\n",
      " \n",
      "Go to Home Page »\n",
      "[Tree('PERSON', [('Home', 'NNP'), ('Page', 'NNP')])]\n",
      " \n"
     ]
    }
   ],
   "source": [
    "# named entity recognition with NLTK\n",
    "\n",
    "for sent in sentences:\n",
    "    \n",
    "    print (sent)\n",
    "    \n",
    "    # first step you tokenize (read documentation to know the input of NER)\n",
    "    sent = nltk.word_tokenize(sent)\n",
    "    # you use the pos-tagger (it gives you back a list of tuples (word,pos))\n",
    "    pos_sent = nltk.pos_tag(sent)\n",
    "    \n",
    "    \n",
    "\n",
    "    # then you use the NER library\n",
    "    ner = nltk.ne_chunk(pos_sent)\n",
    "\n",
    "    # we keep only the entities, type nltk.tree.Tree\n",
    "    \n",
    "    ner = [x for x in ner if type(x) == nltk.tree.Tree]\n",
    "    \n",
    "    print (ner)\n",
    "    print (\" \")\n",
    "    "
   ]
  },
  {
   "cell_type": "code",
   "execution_count": 15,
   "metadata": {},
   "outputs": [],
   "source": [
    "# named entity recognition with Spacy\n",
    "\n",
    "# a different (new) library for doing most of the things we have seen so far\n",
    "# to install it: !pip install spacy\n",
    "# to download a model: !python -m spacy download en\n",
    "\n",
    "import spacy\n",
    "\n",
    "spacy_nlp_pipeline = spacy.load(\"en\")"
   ]
  },
  {
   "cell_type": "code",
   "execution_count": 17,
   "metadata": {},
   "outputs": [
    {
     "name": "stdout",
     "output_type": "stream",
     "text": [
      "Advertisement By JACEY FORTINDEC.\n",
      "JACEY FORTINDEC PERSON\n",
      " \n",
      "31, 2017  In Sydney, rainbow fireworks sparkled off the Harbour Bridge in celebration of Australia’s recent legalization of gay marriage.\n",
      "31 CARDINAL\n",
      "2017 DATE\n",
      "Sydney GPE\n",
      "the Harbour Bridge FAC\n",
      "Australia GPE\n",
      " \n",
      "(Sydney was among the first major cities to celebrate with fireworks at the stroke of midnight.)\n",
      "Sydney GPE\n",
      "first ORDINAL\n",
      "midnight TIME\n",
      " \n",
      "In Japan, people paraded in fox masks to attend the first prayer of the year at a Shinto shrine in Tokyo.\n",
      "Japan GPE\n",
      "first ORDINAL\n",
      "the year DATE\n",
      "Shinto PERSON\n",
      "Tokyo GPE\n",
      " \n",
      "In the Philippines, revelers gathered — phones in hand — at the Eastwood Mall in Manila to watch balloons and confetti rain down at midnight.\n",
      "Philippines GPE\n",
      "the Eastwood Mall FAC\n",
      "Manila GPE\n",
      "midnight TIME\n",
      " \n",
      "Big pots of tea were prepared for New Year’s Eve celebrations in Beijing.\n",
      "New Year’s Eve EVENT\n",
      "Beijing GPE\n",
      " \n",
      "The country will also celebrate the Lunar New Year, in February.\n",
      "the Lunar New Year EVENT\n",
      "February DATE\n",
      " \n",
      "It was raining in Singapore, but New Year’s Eve celebrants sheltered under umbrellas and raincoats as fireworks sparkled overhead.\n",
      "Singapore GPE\n",
      "New Year’s Eve EVENT\n",
      " \n",
      "Tourists donned party hats to watch fireworks in front of the famous Petronas Twin Towers in Kuala Lumpur, Malaysia.\n",
      "Petronas GPE\n",
      "Kuala Lumpur GPE\n",
      "Malaysia GPE\n",
      " \n",
      "Hundreds of couples got married at a mass wedding in Jakarta on New Year’s Eve.\n",
      "Hundreds CARDINAL\n",
      "Jakarta GPE\n",
      "New Year’s Eve EVENT\n",
      " \n",
      "We’re interested in your feedback on this page.\n",
      " \n",
      "Tell us what you think.\n",
      " \n",
      "Go to Home Page »\n",
      " \n"
     ]
    }
   ],
   "source": [
    "\n",
    "\n",
    "for sent in sentences:\n",
    "    print (sent)\n",
    "    sent = spacy_nlp_pipeline(sent)\n",
    "    for token in sent:\n",
    "        tok = token.text\n",
    "        lemma = token.lemma_\n",
    "        pos = token.pos_\n",
    "        #print (tok, lemma,pos)\n",
    "                            \n",
    "    for ent in sent.ents:\n",
    "        ent_text = ent.text\n",
    "        label = str(ent.label_)\n",
    "        print (ent_text,label)\n",
    "    print (\" \")\n"
   ]
  },
  {
   "cell_type": "code",
   "execution_count": null,
   "metadata": {
    "collapsed": false,
    "scrolled": true
   },
   "outputs": [],
   "source": [
    "# for installing tagme:\n",
    "# !pip install tagme"
   ]
  },
  {
   "cell_type": "code",
   "execution_count": 30,
   "metadata": {
    "collapsed": false
   },
   "outputs": [],
   "source": [
    "import tagme\n",
    "# Set the authorization token for subsequent calls.\n",
    "# add your own token here!\n",
    "# you can get it from here: https://sobigdata.d4science.org/web/tagme/tagme-help\n",
    "\n",
    "tagme.GCUBE_TOKEN = \"0ff2cd5e-79d7-4dac-b721-186a1a8df1ca-843339462\"\n",
    "\n",
    "annotated_article = tagme.annotate(article,lang=\"de\")\n"
   ]
  },
  {
   "cell_type": "code",
   "execution_count": 23,
   "metadata": {
    "collapsed": false
   },
   "outputs": [
    {
     "name": "stdout",
     "output_type": "stream",
     "text": [
      "Advertisement By JACEY FORTINDEC. 31, 2017  In Sydney, rainbow fireworks sparkled off the Harbour Bridge in celebration of Australia’s recent legalization of gay marriage. (Sydney was among the first major cities to celebrate with fireworks at the stroke of midnight.) In Japan, people paraded in fox masks to attend the first prayer of the year at a Shinto shrine in Tokyo. In the Philippines, revelers gathered — phones in hand — at the Eastwood Mall in Manila to watch balloons and confetti rain down at midnight. Big pots of tea were prepared for New Year’s Eve celebrations in Beijing. The country will also celebrate the Lunar New Year, in February. It was raining in Singapore, but New Year’s Eve celebrants sheltered under umbrellas and raincoats as fireworks sparkled overhead. Tourists donned party hats to watch fireworks in front of the famous Petronas Twin Towers in Kuala Lumpur, Malaysia. Hundreds of couples got married at a mass wedding in Jakarta on New Year’s Eve. We’re interested in your feedback on this page. Tell us what you think. Go to Home Page »\n"
     ]
    }
   ],
   "source": [
    "# check the type\n",
    "print (article)"
   ]
  },
  {
   "cell_type": "code",
   "execution_count": 25,
   "metadata": {
    "collapsed": false
   },
   "outputs": [
    {
     "name": "stdout",
     "output_type": "stream",
     "text": [
      "fireworks -> Fireworks (score: 0.31419679522514343)\n",
      "stroke of midnight -> A Stroke of Midnight (score: 0.5)\n",
      "Shinto shrine -> Shinto shrine (score: 0.5452408194541931)\n",
      "Tokyo -> Tokyo (score: 0.313284307718277)\n",
      "Philippines -> Philippines (score: 0.44611889123916626)\n",
      "Eastwood Mall -> Eastwood City (score: 0.7888547778129578)\n",
      "Manila -> Manila (score: 0.32812315225601196)\n",
      "confetti -> Confetti (score: 0.3147100806236267)\n",
      "New Year’s Eve -> New Year's Eve (score: 0.3361709415912628)\n",
      "Beijing -> Beijing (score: 0.3367815911769867)\n",
      "Singapore -> Singapore (score: 0.3805890381336212)\n",
      "raincoats -> The Raincoats (score: 0.31521740555763245)\n",
      "Petronas Twin Towers -> Petronas Towers (score: 0.5)\n",
      "Kuala Lumpur -> Kuala Lumpur (score: 0.4240269362926483)\n",
      "Malaysia -> Malaysia (score: 0.5643056631088257)\n",
      "Jakarta -> Jakarta (score: 0.4368698298931122)\n",
      "Home Page -> Google Search (score: 0.47574180364608765)\n"
     ]
    }
   ],
   "source": [
    "# read the documentation to learn other commands\n",
    "\n",
    "for ann in annotated_article.get_annotations(0.3):\n",
    "    print (ann)"
   ]
  },
  {
   "cell_type": "code",
   "execution_count": 26,
   "metadata": {
    "collapsed": false
   },
   "outputs": [
    {
     "name": "stdout",
     "output_type": "stream",
     "text": [
      "debate -> United States presidential election debates (score: 0.1599879115819931)\n",
      "Clinton -> Bill Clinton (score: 0.22683759033679962)\n",
      "Sanders -> Bernie Sanders (score: 0.19481973350048065)\n"
     ]
    }
   ],
   "source": [
    "# test with this\n",
    "sent = tagme.annotate(\"Yesterday I watched the debate between Clinton and Sanders.\")\n",
    "\n",
    "# Print annotations with a score higher than 0.1\n",
    "\n",
    "for ann in sent.get_annotations(0.1):\n",
    "    print (ann)\n",
    "\n",
    "# why is it still making mistakes?"
   ]
  },
  {
   "cell_type": "code",
   "execution_count": null,
   "metadata": {
    "collapsed": false
   },
   "outputs": [],
   "source": [
    "# computing entity relatedness\n",
    "rels = tagme.relatedness_title((\"Hillary Clinton\", \"Bernie Sanders\"))\n",
    "print (\"Hillary and Bernie have a semantic relation of\", rels.relatedness[0].rel)\n",
    "\n",
    "rels = tagme.relatedness_title((\"Bill Clinton\", \"Bernie Sanders\"))\n",
    "print (\"Bill and Bernie have a semantic relation of\", rels.relatedness[0].rel)\n",
    "\n",
    "rels = tagme.relatedness_title((\"Bill Clinton\", \"Hillary Clinton\"))\n",
    "print (\"Bill and Hillary have a semantic relation of\", rels.relatedness[0].rel)"
   ]
  },
  {
   "cell_type": "code",
   "execution_count": null,
   "metadata": {
    "collapsed": false,
    "scrolled": true
   },
   "outputs": [],
   "source": [
    "#homework: extract the most popular NERs and entities from this new dataset\n",
    "# use the library that you prefer\n",
    "# the file is organized this way, each line contains an article\n",
    "#each line has a date, a title, a topic and the content divided by tabs\n",
    "#so you have to split over tabs and take the 4th element for getting the article\n",
    "\n",
    "import codecs, nltk\n",
    "from collections import Counter\n",
    "\n",
    "# i'm skipping the first line, which is the header\n",
    "dataset = codecs.open(\"../datasets/dataset.tsv\", \"r\", \"utf-8\").read().strip().split(\"\\n\")[1:]\n",
    "\n",
    "\n",
    "entities = []\n",
    "\n",
    "for k in range(len(dataset)):\n",
    "    article = dataset[k]\n",
    "    print (article)\n",
    "    break\n"
   ]
  },
  {
   "cell_type": "code",
   "execution_count": null,
   "metadata": {
    "collapsed": false
   },
   "outputs": [],
   "source": []
  }
 ],
 "metadata": {
  "kernelspec": {
   "display_name": "Python 3",
   "language": "python",
   "name": "python3"
  },
  "language_info": {
   "codemirror_mode": {
    "name": "ipython",
    "version": 3
   },
   "file_extension": ".py",
   "mimetype": "text/x-python",
   "name": "python",
   "nbconvert_exporter": "python",
   "pygments_lexer": "ipython3",
   "version": "3.6.3"
  }
 },
 "nbformat": 4,
 "nbformat_minor": 2
}
