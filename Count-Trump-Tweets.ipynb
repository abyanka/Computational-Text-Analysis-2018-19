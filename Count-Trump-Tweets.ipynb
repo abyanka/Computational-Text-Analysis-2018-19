{
 "cells": [
  {
   "cell_type": "code",
   "execution_count": 2,
   "metadata": {},
   "outputs": [
    {
     "name": "stdout",
     "output_type": "stream",
     "text": [
      "35018\n"
     ]
    }
   ],
   "source": [
    "import json\n",
    "\n",
    "with open('trump.json') as f:\n",
    "    tweets = json.load(f)\n",
    "\n",
    "print (len(tweets))"
   ]
  },
  {
   "cell_type": "code",
   "execution_count": 23,
   "metadata": {},
   "outputs": [
    {
     "name": "stdout",
     "output_type": "stream",
     "text": [
      "52 0.001484950596835913 0.00357511172224132\n"
     ]
    }
   ],
   "source": [
    "ct = 0\n",
    "and_ct = 0\n",
    "for tweet in tweets:\n",
    "    if \"Android\" in tweet[\"source\"]:\n",
    "        text = tweet[\"text\"]\n",
    "        and_ct += 1\n",
    "        if \"great\" in text.lower():\n",
    "            ct += 1\n",
    "        \n",
    "print (ct, ct/len(tweets),ct/and_ct)"
   ]
  }
 ],
 "metadata": {
  "kernelspec": {
   "display_name": "Python 3",
   "language": "python",
   "name": "python3"
  },
  "language_info": {
   "codemirror_mode": {
    "name": "ipython",
    "version": 3
   },
   "file_extension": ".py",
   "mimetype": "text/x-python",
   "name": "python",
   "nbconvert_exporter": "python",
   "pygments_lexer": "ipython3",
   "version": "3.6.3"
  }
 },
 "nbformat": 4,
 "nbformat_minor": 2
}
