{
 "cells": [
  {
   "cell_type": "code",
   "execution_count": 4,
   "metadata": {
    "collapsed": false
   },
   "outputs": [],
   "source": [
    "# open the new dataset\n",
    "\n",
    "import codecs, nltk\n",
    "\n",
    "article = codecs.open(\"../datasets/CleanedArticles/15.txt\",\"r\",\"utf-8\")\n",
    "article = article.read()"
   ]
  },
  {
   "cell_type": "code",
   "execution_count": 6,
   "metadata": {
    "collapsed": false
   },
   "outputs": [
    {
     "name": "stdout",
     "output_type": "stream",
     "text": [
      "31, 2017  In Sydney, rainbow fireworks sparkled off the Harbour Bridge in celebration of Australia’s recent legalization of gay marriage.\n"
     ]
    }
   ],
   "source": [
    "# split into sentences\n",
    "sentences = nltk.sent_tokenize(article) \n",
    "\n",
    "# take one single sentence (I'm adding a number at the end - just for testing that stripping numbers work fine)\n",
    "sentence = sentences[1]\n",
    "\n",
    "print (sentence)\n",
    "\n",
    "# word tokenizer\n",
    "sentence = nltk.word_tokenize(sentence)"
   ]
  },
  {
   "cell_type": "code",
   "execution_count": 7,
   "metadata": {},
   "outputs": [
    {
     "name": "stdout",
     "output_type": "stream",
     "text": [
      "['i', 'me', 'my', 'myself', 'we', 'our', 'ours', 'ourselves', 'you', \"you're\", \"you've\", \"you'll\", \"you'd\", 'your', 'yours', 'yourself', 'yourselves', 'he', 'him', 'his', 'himself', 'she', \"she's\", 'her', 'hers', 'herself', 'it', \"it's\", 'its', 'itself', 'they', 'them', 'their', 'theirs', 'themselves', 'what', 'which', 'who', 'whom', 'this', 'that', \"that'll\", 'these', 'those', 'am', 'is', 'are', 'was', 'were', 'be', 'been', 'being', 'have', 'has', 'had', 'having', 'do', 'does', 'did', 'doing', 'a', 'an', 'the', 'and', 'but', 'if', 'or', 'because', 'as', 'until', 'while', 'of', 'at', 'by', 'for', 'with', 'about', 'against', 'between', 'into', 'through', 'during', 'before', 'after', 'above', 'below', 'to', 'from', 'up', 'down', 'in', 'out', 'on', 'off', 'over', 'under', 'again', 'further', 'then', 'once', 'here', 'there', 'when', 'where', 'why', 'how', 'all', 'any', 'both', 'each', 'few', 'more', 'most', 'other', 'some', 'such', 'no', 'nor', 'not', 'only', 'own', 'same', 'so', 'than', 'too', 'very', 's', 't', 'can', 'will', 'just', 'don', \"don't\", 'should', \"should've\", 'now', 'd', 'll', 'm', 'o', 're', 've', 'y', 'ain', 'aren', \"aren't\", 'couldn', \"couldn't\", 'didn', \"didn't\", 'doesn', \"doesn't\", 'hadn', \"hadn't\", 'hasn', \"hasn't\", 'haven', \"haven't\", 'isn', \"isn't\", 'ma', 'mightn', \"mightn't\", 'mustn', \"mustn't\", 'needn', \"needn't\", 'shan', \"shan't\", 'shouldn', \"shouldn't\", 'wasn', \"wasn't\", 'weren', \"weren't\", 'won', \"won't\", 'wouldn', \"wouldn't\"]\n"
     ]
    }
   ],
   "source": [
    "from nltk.corpus import stopwords\n",
    "\n",
    "stop = stopwords.words('english')\n",
    "\n",
    "# what is \"stop\" ?\n",
    "\n",
    "print (stop)"
   ]
  },
  {
   "cell_type": "code",
   "execution_count": 9,
   "metadata": {},
   "outputs": [
    {
     "name": "stdout",
     "output_type": "stream",
     "text": [
      "['31', ',', '2017', 'sydney', ',', 'rainbow', 'fireworks', 'sparkled', 'harbour', 'bridge', 'celebration', 'australia', '’', 'recent', 'legalization', 'gay', 'marriage', '.']\n",
      "['31', ',', '2017', 'sydney', ',', 'rainbow', 'fireworks', 'sparkled', 'harbour', 'bridge', 'celebration', 'australia', '’', 'recent', 'legalization', 'gay', 'marriage', '.']\n"
     ]
    }
   ],
   "source": [
    "# lowering words\n",
    "sentence = [word.lower() for word in sentence]\n",
    "\n",
    "print (sentence)\n",
    "\n",
    "# defining stop-words (it's a list)\n",
    "stop_word_list = stopwords.words('english')\n",
    "\n",
    "# removing stopwords\n",
    "sentence = [word for word in sentence if word not in stop_word_list]\n",
    "\n",
    "print (sentence)\n"
   ]
  },
  {
   "cell_type": "code",
   "execution_count": 10,
   "metadata": {},
   "outputs": [
    {
     "name": "stdout",
     "output_type": "stream",
     "text": [
      "['31', '2017', 'sydney', 'rainbow', 'fireworks', 'sparkled', 'harbour', 'bridge', 'celebration', 'australia', '’', 'recent', 'legalization', 'gay', 'marriage']\n"
     ]
    }
   ],
   "source": [
    "import string\n",
    "\n",
    "# defining punctuation to be removed\n",
    "exclude = set(string.punctuation)\n",
    "\n",
    "\n",
    "sentence = [token for token in sentence if token not in exclude]\n",
    "\n",
    "print (sentence)"
   ]
  },
  {
   "cell_type": "code",
   "execution_count": 11,
   "metadata": {
    "collapsed": false
   },
   "outputs": [
    {
     "name": "stdout",
     "output_type": "stream",
     "text": [
      "['sydney', 'rainbow', 'fireworks', 'sparkled', 'harbour', 'bridge', 'celebration', 'australia', 'recent', 'legalization', 'gay', 'marriage']\n"
     ]
    }
   ],
   "source": [
    "# keeping words (alpha is a \"word\" not a number)\n",
    "\n",
    "sentence = [word for word in sentence if word.isalpha()]\n",
    "\n",
    "print (sentence)\n"
   ]
  },
  {
   "cell_type": "code",
   "execution_count": null,
   "metadata": {
    "collapsed": false
   },
   "outputs": [],
   "source": []
  },
  {
   "cell_type": "code",
   "execution_count": 14,
   "metadata": {
    "collapsed": false
   },
   "outputs": [
    {
     "name": "stdout",
     "output_type": "stream",
     "text": [
      "['damn', 'fans', 'took', 'twitter', 'droves', 'commend', 'team', 'supporters', 'classy', 'performance', 'many', 'credited', 'highlight', 'far']\n",
      "['damn', 'fan', 'took', 'twitter', 'drove', 'commend', 'team', 'support', 'classi', 'perform', 'mani', 'credit', 'highlight', 'far']\n"
     ]
    }
   ],
   "source": [
    "# stemming\n",
    "\n",
    "# import the library\n",
    "from nltk.stem import SnowballStemmer\n",
    "snowball_stemmer = SnowballStemmer(\"english\")\n",
    "\n",
    "print (sentence)\n",
    "\n",
    "stem_sentence = [snowball_stemmer.stem(word) for word in sentence]\n",
    "\n",
    "print (stem_sentence)"
   ]
  },
  {
   "cell_type": "code",
   "execution_count": 15,
   "metadata": {
    "collapsed": false
   },
   "outputs": [
    {
     "name": "stdout",
     "output_type": "stream",
     "text": [
      "['damn', 'fan', 'took', 'twitter', 'drove', 'commend', 'team', 'supporter', 'classy', 'performance', 'many', 'credited', 'highlight', 'far']\n"
     ]
    }
   ],
   "source": [
    "# lemmatization\n",
    "\n",
    "from nltk.stem.wordnet import WordNetLemmatizer\n",
    "\n",
    "wordnet_lemmatizer = WordNetLemmatizer()\n",
    "\n",
    "lemma_sent = [wordnet_lemmatizer.lemmatize(word) for word in sentence]\n",
    "\n",
    "print (lemma_sent)"
   ]
  },
  {
   "cell_type": "code",
   "execution_count": 20,
   "metadata": {
    "collapsed": false
   },
   "outputs": [
    {
     "name": "stdout",
     "output_type": "stream",
     "text": [
      "[('DAMN', 'NNP'), ('Fans', 'NNS'), ('took', 'VBD'), ('to', 'TO'), ('Twitter', 'NNP'), ('in', 'IN'), ('their', 'PRP$'), ('droves', 'NNS'), ('to', 'TO'), ('commend', 'VB'), ('the', 'DT'), ('team', 'NN'), ('and', 'CC'), ('their', 'PRP$'), ('supporters', 'NNS'), ('for', 'IN'), ('their', 'PRP$'), ('classy', 'JJ'), ('performance', 'NN'), ('that', 'IN'), ('many', 'JJ'), ('credited', 'VBD'), ('as', 'IN'), ('the', 'DT'), ('highlight', 'NN'), ('of', 'IN'), ('Euro-2016', 'NNP'), ('so', 'IN'), ('far', 'RB'), ('.', '.')]\n"
     ]
    }
   ],
   "source": [
    "#POS tagging\n",
    "# http://www.nltk.org/book/ch05.html\n",
    "\n",
    "# we need to use the original sentence\n",
    "\n",
    "sentence = nltk.word_tokenize(sentences[4])\n",
    "\n",
    "# you use the pos-tagger (it gives you back a list of tuples (word,pos))\n",
    "pos_sentence = nltk.pos_tag(sentence)\n",
    "\n",
    "print (pos_sentence)"
   ]
  },
  {
   "cell_type": "code",
   "execution_count": 21,
   "metadata": {
    "collapsed": false
   },
   "outputs": [
    {
     "name": "stdout",
     "output_type": "stream",
     "text": [
      "['damn', 'fan', 'take', 'to', 'twitter', 'in', 'their', 'drove', 'to', 'commend', 'the', 'team', 'and', 'their', 'supporter', 'for', 'their', 'classy', 'performance', 'that', 'many', 'credit', 'a', 'the', 'highlight', 'of', 'euro-2016', 'so', 'far', '.']\n"
     ]
    }
   ],
   "source": [
    "# combining lemmatization and pos tagging\n",
    "\n",
    "lemma_word = []\n",
    "\n",
    "for word,pos in pos_sentence:\n",
    "    # we lower-case the word (for lemmatization)\n",
    "    word = word.lower()\n",
    "    \n",
    "    # if it's a verb - then we tell that to the lemmatizer\n",
    "    if \"V\" in pos:\n",
    "        lemma = wordnet_lemmatizer.lemmatize(word,\"v\")\n",
    "    else:\n",
    "    # otherwise, work as usual\n",
    "        lemma = wordnet_lemmatizer.lemmatize(word)\n",
    "    # we append the results\n",
    "    lemma_word.append(lemma)\n",
    "print (lemma_word)\n",
    "\n",
    "\n",
    "#homework - try to write this with a list comprehension"
   ]
  },
  {
   "cell_type": "code",
   "execution_count": null,
   "metadata": {
    "collapsed": false
   },
   "outputs": [],
   "source": []
  },
  {
   "cell_type": "code",
   "execution_count": null,
   "metadata": {
    "collapsed": false
   },
   "outputs": [],
   "source": []
  },
  {
   "cell_type": "code",
   "execution_count": null,
   "metadata": {
    "collapsed": true
   },
   "outputs": [],
   "source": [
    "\n"
   ]
  },
  {
   "cell_type": "code",
   "execution_count": null,
   "metadata": {
    "collapsed": false
   },
   "outputs": [],
   "source": []
  },
  {
   "cell_type": "code",
   "execution_count": null,
   "metadata": {
    "collapsed": false
   },
   "outputs": [],
   "source": []
  },
  {
   "cell_type": "code",
   "execution_count": null,
   "metadata": {
    "collapsed": false,
    "scrolled": true
   },
   "outputs": [],
   "source": []
  },
  {
   "cell_type": "code",
   "execution_count": null,
   "metadata": {
    "collapsed": false
   },
   "outputs": [],
   "source": []
  },
  {
   "cell_type": "code",
   "execution_count": null,
   "metadata": {
    "collapsed": false
   },
   "outputs": [],
   "source": []
  },
  {
   "cell_type": "code",
   "execution_count": null,
   "metadata": {
    "collapsed": false
   },
   "outputs": [],
   "source": []
  },
  {
   "cell_type": "code",
   "execution_count": null,
   "metadata": {
    "collapsed": false
   },
   "outputs": [],
   "source": [
    "\n"
   ]
  },
  {
   "cell_type": "code",
   "execution_count": null,
   "metadata": {
    "collapsed": false
   },
   "outputs": [],
   "source": []
  },
  {
   "cell_type": "code",
   "execution_count": null,
   "metadata": {
    "collapsed": true
   },
   "outputs": [],
   "source": []
  },
  {
   "cell_type": "code",
   "execution_count": null,
   "metadata": {
    "collapsed": false
   },
   "outputs": [],
   "source": []
  },
  {
   "cell_type": "code",
   "execution_count": null,
   "metadata": {
    "collapsed": true
   },
   "outputs": [],
   "source": []
  }
 ],
 "metadata": {
  "kernelspec": {
   "display_name": "Python 3",
   "language": "python",
   "name": "python3"
  },
  "language_info": {
   "codemirror_mode": {
    "name": "ipython",
    "version": 3
   },
   "file_extension": ".py",
   "mimetype": "text/x-python",
   "name": "python",
   "nbconvert_exporter": "python",
   "pygments_lexer": "ipython3",
   "version": "3.6.3"
  }
 },
 "nbformat": 4,
 "nbformat_minor": 2
}
