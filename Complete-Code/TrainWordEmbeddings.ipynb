{
 "cells": [
  {
   "cell_type": "code",
   "execution_count": 2,
   "metadata": {},
   "outputs": [],
   "source": [
    "import gensim,os,codecs,string,nltk\n",
    "from langdetect import detect\n",
    "\n",
    "exclude = set(string.punctuation)\n",
    "\n",
    "def tok_sent(sent):\n",
    "        \n",
    "    # you can decide if you want to lowercase everything or not\n",
    "    sent = sent.lower()\n",
    "    \n",
    "    sent = nltk.tokenize.WordPunctTokenizer().tokenize(sent)\n",
    "    # you remove numbers and punctuation\n",
    "    sent = [token for token in sent if token not in exclude and token.isalpha()]\n",
    "    return sent"
   ]
  },
  {
   "cell_type": "code",
   "execution_count": null,
   "metadata": {},
   "outputs": [],
   "source": []
  },
  {
   "cell_type": "code",
   "execution_count": 4,
   "metadata": {},
   "outputs": [
    {
     "name": "stdout",
     "output_type": "stream",
     "text": [
      "ready!\n"
     ]
    }
   ],
   "source": [
    "\n",
    "# add the path to the folder where you have all your data as text files\n",
    "collection_path = \"datasets/CleanedArticles/\"\n",
    "\n",
    "trainingData = []\n",
    "\n",
    "# you loop over the folder\n",
    "for filename in os.listdir(collection_path):\n",
    "    if \".txt\" in filename:\n",
    "        try:\n",
    "            # you open each file\n",
    "            content = open(collection_path+filename,\"r\").read()\n",
    "            content = nltk.sent_tokenize(content)\n",
    "            for sent in content:\n",
    "                # you tokenize in words\n",
    "                sent = tok_sent(sent)\n",
    "                # you append them to the training data\n",
    "                trainingData.append(sent)\n",
    "        except Exception as e:\n",
    "            print (e)\n",
    "            continue\n",
    "print (\"ready!\")"
   ]
  },
  {
   "cell_type": "code",
   "execution_count": null,
   "metadata": {},
   "outputs": [],
   "source": []
  },
  {
   "cell_type": "code",
   "execution_count": 5,
   "metadata": {},
   "outputs": [
    {
     "name": "stdout",
     "output_type": "stream",
     "text": [
      "done.\n"
     ]
    }
   ],
   "source": [
    "# here you train the word embeddings, with size 50 of the embedding and looking at a window of 5 words around\n",
    "from gensim.models import word2vec, KeyedVectors\n",
    "model = word2vec.Word2Vec(trainingData, size=50, window=5, min_count=2, workers=4)\n",
    "print (\"done.\")"
   ]
  },
  {
   "cell_type": "code",
   "execution_count": 8,
   "metadata": {},
   "outputs": [
    {
     "data": {
      "text/plain": [
       "[('m', 0.9982477426528931),\n",
       " ('by', 0.9982184171676636),\n",
       " ('many', 0.9981300234794617),\n",
       " ('at', 0.9980728626251221),\n",
       " ('then', 0.9980554580688477),\n",
       " ('an', 0.9980456829071045),\n",
       " ('but', 0.9980384707450867),\n",
       " ('year', 0.9980198740959167),\n",
       " ('be', 0.9980144500732422),\n",
       " ('did', 0.9980134963989258),\n",
       " ('most', 0.9980108141899109),\n",
       " ('chief', 0.9980106949806213),\n",
       " ('use', 0.998007595539093),\n",
       " ('on', 0.9980059862136841),\n",
       " ('in', 0.9979963898658752),\n",
       " ('and', 0.9979878664016724),\n",
       " ('was', 0.9979770183563232),\n",
       " ('for', 0.9979695677757263),\n",
       " ('will', 0.9979690909385681),\n",
       " ('that', 0.9979614019393921)]"
      ]
     },
     "execution_count": 8,
     "metadata": {},
     "output_type": "execute_result"
    }
   ],
   "source": [
    "# we need a large training set of examples for learning good embeddings\n",
    "# the embeddings are meaningless now because in the folder we only have 20 articles\n",
    "# add more data to get better embeddings\n",
    "\n",
    "model.wv.most_similar(positive=[\"man\"], topn=20)"
   ]
  },
  {
   "cell_type": "code",
   "execution_count": 5,
   "metadata": {},
   "outputs": [],
   "source": [
    "model.wv.save_word2vec_format('in-domain-embeddings.txt', binary=False)"
   ]
  }
 ],
 "metadata": {
  "kernelspec": {
   "display_name": "Python 3",
   "language": "python",
   "name": "python3"
  },
  "language_info": {
   "codemirror_mode": {
    "name": "ipython",
    "version": 3
   },
   "file_extension": ".py",
   "mimetype": "text/x-python",
   "name": "python",
   "nbconvert_exporter": "python",
   "pygments_lexer": "ipython3",
   "version": "3.6.3"
  }
 },
 "nbformat": 4,
 "nbformat_minor": 2
}
