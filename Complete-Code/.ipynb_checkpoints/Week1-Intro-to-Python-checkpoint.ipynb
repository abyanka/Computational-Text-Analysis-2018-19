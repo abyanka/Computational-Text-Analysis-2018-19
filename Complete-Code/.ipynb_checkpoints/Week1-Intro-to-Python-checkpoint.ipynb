{
 "cells": [
  {
   "cell_type": "code",
   "execution_count": 1,
   "metadata": {
    "collapsed": false
   },
   "outputs": [
    {
     "name": "stdout",
     "output_type": "stream",
     "text": [
      "pizza\n"
     ]
    }
   ],
   "source": [
    "# you can use hashtag to add comments\n",
    "\n",
    "# printing in python\n",
    "print (\"pizza\")"
   ]
  },
  {
   "cell_type": "code",
   "execution_count": 2,
   "metadata": {
    "collapsed": true
   },
   "outputs": [],
   "source": [
    "# create variables with values\n",
    "\n",
    "counter = 0"
   ]
  },
  {
   "cell_type": "code",
   "execution_count": 3,
   "metadata": {
    "collapsed": false
   },
   "outputs": [
    {
     "name": "stdout",
     "output_type": "stream",
     "text": [
      "10\n"
     ]
    }
   ],
   "source": [
    "# for loops - remember to indent!!\n",
    "\n",
    "for i in range(10):\n",
    "    counter = counter + 1\n",
    "print (counter)"
   ]
  },
  {
   "cell_type": "code",
   "execution_count": 4,
   "metadata": {
    "collapsed": false
   },
   "outputs": [
    {
     "name": "stdout",
     "output_type": "stream",
     "text": [
      "0\n",
      "1\n",
      "2\n",
      "3\n",
      "4\n"
     ]
    }
   ],
   "source": [
    "# if - then loops\n",
    "\n",
    "for i in range(10):\n",
    "    if i < 5:\n",
    "        print (i)"
   ]
  },
  {
   "cell_type": "code",
   "execution_count": 5,
   "metadata": {
    "collapsed": true
   },
   "outputs": [],
   "source": [
    "# objects in python\n",
    "\n",
    "#list\n",
    "\n",
    "shopping_bag = [\"ice-cream\",\"peanut butter\",\"tomatoes\",\"beer\"]"
   ]
  },
  {
   "cell_type": "code",
   "execution_count": 6,
   "metadata": {
    "collapsed": false
   },
   "outputs": [
    {
     "name": "stdout",
     "output_type": "stream",
     "text": [
      "peanut butter\n"
     ]
    }
   ],
   "source": [
    "print (shopping_bag[1])"
   ]
  },
  {
   "cell_type": "code",
   "execution_count": 7,
   "metadata": {
    "collapsed": false
   },
   "outputs": [
    {
     "name": "stdout",
     "output_type": "stream",
     "text": [
      "['ice-cream', 'peanut butter', 'tomatoes', 'beer', 'pasta']\n"
     ]
    }
   ],
   "source": [
    "# add a new element\n",
    "\n",
    "shopping_bag.append(\"pasta\")\n",
    "\n",
    "print (shopping_bag)"
   ]
  },
  {
   "cell_type": "code",
   "execution_count": 8,
   "metadata": {
    "collapsed": false
   },
   "outputs": [
    {
     "name": "stdout",
     "output_type": "stream",
     "text": [
      "['ice-cream', 'peanut butter', 'beer', 'pasta']\n"
     ]
    }
   ],
   "source": [
    "# remove an element\n",
    "\n",
    "shopping_bag.remove(\"tomatoes\")\n",
    "\n",
    "print (shopping_bag)"
   ]
  },
  {
   "cell_type": "code",
   "execution_count": 9,
   "metadata": {
    "collapsed": false
   },
   "outputs": [
    {
     "name": "stdout",
     "output_type": "stream",
     "text": [
      "2\n"
     ]
    }
   ],
   "source": [
    "# shopping bag\n",
    "\n",
    "shopping_bag = {'ice-cream':3, 'peanut butter':1, 'beer':6, 'pasta':2}\n",
    "\n",
    "print (shopping_bag[\"pasta\"])"
   ]
  },
  {
   "cell_type": "code",
   "execution_count": 15,
   "metadata": {
    "collapsed": true
   },
   "outputs": [
    {
     "name": "stdout",
     "output_type": "stream",
     "text": [
      "speech.txt\n"
     ]
    }
   ],
   "source": [
    "# opening text files\n",
    "import codecs\n",
    "\n",
    "speech = codecs.open(\"../datasets/speech.txt\",\"r\",\"utf-8\")\n",
    "\n",
    "speech = speech.read()\n",
    "\n",
    "# loop over files in folder\n",
    "import os\n",
    "\n",
    "for filename in os.listdir(\"../datasets/\"):\n",
    "    print (filename)"
   ]
  },
  {
   "cell_type": "code",
   "execution_count": 11,
   "metadata": {
    "collapsed": true
   },
   "outputs": [
    {
     "name": "stdout",
     "output_type": "stream",
     "text": [
      "[u'Chief', u'Justice', u'Roberts,', u'President', u'Carter,', u'President', u'Clinton,', u'President', u'Bush,', u'President', u'Obama,', u'fellow', u'Americans,', u'and', u'people', u'of', u'the', u'world:', u'Thank', u'you.\\nWe,', u'the', u'citizens', u'of', u'America,', u'are', u'now', u'joined', u'in', u'a', u'great', u'national', u'effort', u'to', u'rebuild', u'our', u'country', u'and', u'restore', u'its', u'promise', u'for', u'all', u'of', u'our', u'people.', u'Together,', u'we', u'will', u'determine', u'the', u'course', u'of', u'America', u'and', u'the', u'world', u'for', u'many,', u'many', u'years', u'to', u'come.', u'We', u'will', u'face', u'challenges,', u'we', u'will', u'confront', u'hardships,', u'but', u'we', u'will', u'get', u'the', u'job', u'done.\\n\\nEvery', u'4', u'years,', u'we', u'gather', u'on', u'these', u'steps', u'to', u'carry', u'out', u'the', u'orderly', u'and', u'peaceful', u'transfer', u'of', u'power,', u'and', u'we', u'are', u'grateful', u'to', u'President', u'Obama', u'and', u'First', u'Lady', u'Michelle', u'Obama', u'for', u'their', u'gracious', u'aid', u'throughout', u'this', u'transition.', u'They', u'have', u'been', u'magnificent.', u'Thank', u\"you.\\n\\nToday's\", u'ceremony,', u'however,', u'has', u'very', u'special', u'meaning.', u'Because', u'today', u'we', u'are', u'not', u'merely', u'transferring', u'power', u'from', u'one', u'administration', u'to', u'another', u'or', u'from', u'one', u'party', u'to', u'another,', u'but', u'we', u'are', u'transferring', u'power', u'from', u'Washington,', u'DC,', u'and', u'giving', u'it', u'back', u'to', u'you,', u'the', u'people.\\n\\nFor', u'too', u'long,', u'a', u'small', u'group', u'in', u'our', u\"Nation's\", u'Capital', u'has', u'reaped', u'the', u'rewards', u'of', u'Government', u'while', u'the', u'people', u'have', u'borne', u'the', u'cost.', u'Washington', u'flourished,', u'but', u'the', u'people', u'did', u'not', u'share', u'in', u'its', u'wealth.', u'Politicians', u'prospered,', u'but', u'the', u'jobs', u'left,', u'and', u'the', u'factories', u'closed.', u'The', u'establishment', u'protected', u'itself,', u'but', u'not', u'the', u'citizens', u'of', u'our', u'country.', u'Their', u'victories', u'have', u'not', u'been', u'your', u'victories;', u'their', u'triumphs', u'have', u'not', u'been', u'your', u'triumphs;', u'and', u'while', u'they', u'celebrated', u'in', u'our', u\"Nation's\", u'Capital,', u'there', u'was', u'little', u'to', u'celebrate', u'for', u'struggling', u'families', u'all', u'across', u'our', u'land.\\n\\nThat', u'all', u'changes,', u'starting', u'right', u'here', u'and', u'right', u'now,', u'because', u'this', u'moment', u'is', u'your', u'moment:', u'It', u'belongs', u'to', u'you.', u'It', u'belongs', u'to', u'everyone', u'gathered', u'here', u'today', u'and', u'everyone', u'watching', u'all', u'across', u'America.', u'This', u'is', u'your', u'day.', u'This', u'is', u'your', u'celebration.', u'And', u'this,', u'the', u'United', u'States', u'of', u'America,', u'is', u'your', u'country.\\n\\nWhat', u'truly', u'matters', u'is', u'not', u'which', u'party', u'controls', u'our', u'Government,', u'but', u'whether', u'our', u'Government', u'is', u'controlled', u'by', u'the', u'people.', u'January', u'20,', u'2017,', u'will', u'be', u'remembered', u'as', u'the', u'day', u'the', u'people', u'became', u'the', u'rulers', u'of', u'this', u'Nation', u'again.', u'The', u'forgotten', u'men', u'and', u'women', u'of', u'our', u'country', u'will', u'be', u'forgotten', u'no', u'longer.', u'Everyone', u'is', u'listening', u'to', u'you', u'now.\\n\\nYou', u'came', u'by', u'the', u'tens', u'of', u'millions', u'to', u'become', u'part', u'of', u'a', u'historic', u'movement', u'the', u'likes', u'of', u'which', u'the', u'world', u'has', u'never', u'seen', u'before.', u'At', u'the', u'center', u'of', u'this', u'movement', u'is', u'a', u'crucial', u'conviction:', u'that', u'a', u'nation', u'exists', u'to', u'serve', u'its', u'citizens.', u'Americans', u'want', u'great', u'schools', u'for', u'their', u'children,', u'safe', u'neighborhoods', u'for', u'their', u'families,', u'and', u'good', u'jobs', u'for', u'themselves.', u'These', u'are', u'just', u'and', u'reasonable', u'demands', u'of', u'righteous', u'people', u'and', u'a', u'righteous', u'public.\\n\\nBut', u'for', u'too', u'many', u'of', u'our', u'citizens,', u'a', u'different', u'reality', u'exists:', u'Mothers', u'and', u'children', u'trapped', u'in', u'poverty', u'in', u'our', u'inner', u'cities;', u'rusted-out', u'factories', u'scattered', u'like', u'tombstones', u'across', u'the', u'landscape', u'of', u'our', u'Nation;', u'an', u'education', u'system,', u'flush', u'with', u'cash,', u'but', u'which', u'leaves', u'our', u'young', u'and', u'beautiful', u'students', u'deprived', u'of', u'all', u'knowledge;', u'and', u'the', u'crime', u'and', u'the', u'gangs', u'and', u'the', u'drugs', u'that', u'have', u'stolen', u'too', u'many', u'lives', u'and', u'robbed', u'our', u'country', u'of', u'so', u'much', u'unrealized', u'potential.\\n\\nThis', u'American', u'carnage', u'stops', u'right', u'here', u'and', u'stops', u'right', u'now.', u'We', u'are', u'one', u'Nation,', u'and', u'their', u'pain', u'is', u'our', u'pain,', u'their', u'dreams', u'are', u'our', u'dreams,', u'and', u'their', u'success', u'will', u'be', u'our', u'success.', u'We', u'share', u'one', u'heart,', u'one', u'home,', u'and', u'one', u'glorious', u'destiny.\\n\\nThe', u'oath', u'of', u'office', u'I', u'take', u'today', u'is', u'an', u'oath', u'of', u'allegiance', u'to', u'all', u'Americans.\\n\\nFor', u'many', u'decades,', u\"we've\", u'enriched', u'foreign', u'industry', u'at', u'the', u'expense', u'of', u'American', u'industry,', u'subsidized', u'the', u'armies', u'of', u'other', u'countries', u'while', u'allowing', u'for', u'the', u'very', u'sad', u'depletion', u'of', u'our', u'military.', u\"We've\", u'defended', u'other', u\"nations'\", u'borders', u'while', u'refusing', u'to', u'defend', u'our', u'own', u'and', u'spent', u'trillions', u'and', u'trillions', u'of', u'dollars', u'overseas', u'while', u\"America's\", u'infrastructure', u'has', u'fallen', u'into', u'disrepair', u'and', u'decay.', u\"We've\", u'made', u'other', u'countries', u'rich', u'while', u'the', u'wealth,', u'strength,', u'and', u'confidence', u'of', u'our', u'country', u'has', u'dissipated', u'over', u'the', u'horizon.\\n\\nOne', u'by', u'one,', u'the', u'factories', u'shuttered', u'and', u'left', u'our', u'shores,', u'with', u'not', u'even', u'a', u'thought', u'about', u'the', u'millions', u'and', u'millions', u'of', u'American', u'workers', u'that', u'were', u'left', u'behind.', u'The', u'wealth', u'of', u'our', u'middle', u'class', u'has', u'been', u'ripped', u'from', u'their', u'homes', u'and', u'then', u'redistributed', u'all', u'across', u'the', u'world.\\n\\nBut', u'that', u'is', u'the', u'past.', u'And', u'now', u'we', u'are', u'looking', u'only', u'to', u'the', u'future.\\n\\nWe,', u'assembled', u'here', u'today,', u'are', u'issuing', u'a', u'new', u'decree', u'to', u'be', u'heard', u'in', u'every', u'city,', u'in', u'every', u'foreign', u'capital,', u'and', u'in', u'every', u'hall', u'of', u'power.', u'From', u'this', u'day', u'forward,', u'a', u'new', u'vision', u'will', u'govern', u'our', u'land.', u'From', u'this', u'this', u'day', u'forward,', u\"it's\", u'going', u'to', u'be', u'only', u'America', u'first.', u'America', u'first.\\n\\nEvery', u'decision', u'on', u'trade,', u'on', u'taxes,', u'on', u'immigration,', u'on', u'foreign', u'affairs,', u'will', u'be', u'made', u'to', u'benefit', u'American', u'workers', u'and', u'American', u'families.\\n\\nWe', u'must', u'protect', u'our', u'borders', u'from', u'the', u'ravages', u'of', u'other', u'countries', u'making', u'our', u'products,', u'stealing', u'our', u'companies,', u'and', u'destroying', u'our', u'jobs.', u'Protection', u'will', u'lead', u'to', u'great', u'prosperity', u'and', u'strength.', u'I', u'will', u'fight', u'for', u'you', u'with', u'every', u'breath', u'in', u'my', u'body,', u'and', u'I', u'will', u'never,', u'ever', u'let', u'you', u'down.\\n\\nAmerica', u'will', u'start', u'winning', u'again,', u'winning', u'like', u'never', u'before.', u'We', u'will', u'bring', u'back', u'our', u'jobs.', u'We', u'will', u'bring', u'back', u'our', u'borders.', u'We', u'will', u'bring', u'back', u'our', u'wealth.', u'And', u'we', u'will', u'bring', u'back', u'our', u'dreams.\\n\\nWe', u'will', u'build', u'new', u'roads', u'and', u'highways', u'and', u'bridges', u'and', u'airports', u'and', u'tunnels', u'and', u'railways', u'all', u'across', u'our', u'wonderful', u'Nation.\\n\\nWe', u'will', u'get', u'our', u'people', u'off', u'of', u'welfare', u'and', u'back', u'to', u'work,', u'rebuilding', u'our', u'country', u'with', u'American', u'hands', u'and', u'American', u'labor.', u'We', u'will', u'follow', u'two', u'simple', u'rules:', u'Buy', u'American', u'and', u'hire', u'American.\\n\\nWe', u'will', u'seek', u'friendship', u'and', u'good', u'will', u'with', u'the', u'nations', u'of', u'the', u'world,', u'but', u'we', u'do', u'so', u'with', u'the', u'understanding', u'that', u'it', u'is', u'the', u'right', u'of', u'all', u'nations', u'to', u'put', u'their', u'own', u'interests', u'first.', u'We', u'do', u'not', u'seek', u'to', u'impose', u'our', u'way', u'of', u'life', u'on', u'anyone,', u'but', u'rather', u'to', u'let', u'it', u'shine', u'as', u'an', u'example\\u2014we', u'will', u'shine\\u2014for', u'everyone', u'to', u'follow.\\n\\nWe', u'will', u'reinforce', u'old', u'alliances', u'and', u'form', u'new', u'ones', u'and', u'unite', u'the', u'civilized', u'world', u'against', u'radical', u'Islamic', u'terrorism,', u'which', u'we', u'will', u'eradicate', u'completely', u'from', u'the', u'face', u'of', u'the', u'Earth.\\n\\nAt', u'the', u'bedrock', u'of', u'our', u'politics', u'will', u'be', u'a', u'total', u'allegiance', u'to', u'the', u'United', u'States', u'of', u'America,', u'and', u'through', u'our', u'loyalty', u'to', u'our', u'country,', u'we', u'will', u'rediscover', u'our', u'loyalty', u'to', u'each', u'other.', u'When', u'you', u'open', u'your', u'heart', u'to', u'patriotism,', u'there', u'is', u'no', u'room', u'for', u'prejudice.', u'The', u'Bible', u'tells', u'us,', u'\"How', u'good', u'and', u'pleasant', u'it', u'is', u'when', u\"God's\", u'people', u'live', u'together', u'in', u'unity.\"', u'We', u'must', u'speak', u'our', u'minds', u'openly,', u'debate', u'our', u'disagreements', u'honestly,', u'but', u'always', u'pursue', u'solidarity.', u'When', u'America', u'is', u'united,', u'America', u'is', u'totally', u'unstoppable.', u'There', u'should', u'be', u'no', u'fear:', u'We', u'are', u'protected,', u'and', u'we', u'will', u'always', u'be', u'protected.', u'We', u'will', u'be', u'protected', u'by', u'the', u'great', u'men', u'and', u'women', u'of', u'our', u'military', u'and', u'law', u'enforcement,', u'and', u'most', u'importantly,', u'we', u'will', u'be', u'protected', u'by', u'God.\\n\\nFinally,', u'we', u'must', u'think', u'big', u'and', u'dream', u'even', u'bigger.', u'In', u'America,', u'we', u'understand', u'that', u'a', u'nation', u'is', u'only', u'living', u'as', u'long', u'as', u'it', u'is', u'striving.\\n\\nWe', u'will', u'no', u'longer', u'accept', u'politicians', u'who', u'are', u'all', u'talk', u'and', u'no', u'action,', u'constantly', u'complaining,', u'but', u'never', u'doing', u'anything', u'about', u'it.', u'The', u'time', u'for', u'empty', u'talk', u'is', u'over.', u'Now', u'arrives', u'the', u'hour', u'of', u'action.\\n\\nDo', u'not', u'allow', u'anyone', u'to', u'tell', u'you', u'that', u'it', u'cannot', u'be', u'done.', u'No', u'challenge', u'can', u'match', u'the', u'heart', u'and', u'fight', u'and', u'spirit', u'of', u'America.', u'We', u'will', u'not', u'fail.', u'Our', u'country', u'will', u'thrive', u'and', u'prosper', u'again.\\n\\nWe', u'stand', u'at', u'the', u'birth', u'of', u'a', u'new', u'millennium,', u'ready', u'to', u'unlock', u'the', u'mysteries', u'of', u'space,', u'to', u'free', u'the', u'Earth', u'from', u'the', u'miseries', u'of', u'disease,', u'and', u'to', u'harness', u'the', u'energies,', u'industries,', u'and', u'technologies', u'of', u'tomorrow.', u'A', u'new', u'national', u'pride', u'will', u'stir', u'our', u'souls,', u'lift', u'our', u'sights,', u'and', u'heal', u'our', u\"divisions.\\n\\nIt's\", u'time', u'to', u'remember', u'that', u'old', u'wisdom', u'our', u'soldiers', u'will', u'never', u'forget:', u'that', u'whether', u'we', u'are', u'Black', u'or', u'Brown', u'or', u'White,', u'we', u'all', u'bleed', u'the', u'same', u'red', u'blood', u'of', u'patriots,', u'we', u'all', u'enjoy', u'the', u'same', u'glorious', u'freedoms,', u'and', u'we', u'all', u'salute', u'the', u'same', u'great', u'American', u'flag.\\n\\nAnd', u'whether', u'a', u'child', u'is', u'born', u'in', u'the', u'urban', u'sprawl', u'of', u'Detroit', u'or', u'the', u'windswept', u'plains', u'of', u'Nebraska,', u'they', u'look', u'up', u'at', u'the', u'same', u'night', u'sky,', u'they', u'fill', u'their', u'heart', u'with', u'the', u'same', u'dreams,', u'and', u'they', u'are', u'infused', u'with', u'the', u'breath', u'of', u'life', u'by', u'the', u'same', u'almighty', u'Creator.\\n\\nSo', u'to', u'all', u'Americans', u'in', u'every', u'city', u'near', u'and', u'far,', u'small', u'and', u'large,', u'from', u'mountain', u'to', u'mountain,', u'from', u'ocean', u'to', u'ocean,', u'hear', u'these', u'words:', u'You', u'will', u'never', u'be', u'ignored', u'again.', u'Your', u'voice,', u'your', u'hopes,', u'and', u'your', u'dreams', u'will', u'define', u'our', u'American', u'destiny.', u'And', u'your', u'courage', u'and', u'goodness', u'and', u'love', u'will', u'forever', u'guide', u'us', u'along', u'the', u'way.\\n\\nTogether,', u'we', u'will', u'make', u'America', u'strong', u'again.', u'We', u'will', u'make', u'America', u'wealthy', u'again.', u'We', u'will', u'make', u'America', u'proud', u'again.', u'We', u'will', u'make', u'America', u'safe', u'again.\\n\\nAnd,', u'yes,', u'together,', u'we', u'will', u'make', u'America', u'great', u'again.', u'Thank', u'you.', u'God', u'bless', u'you,', u'and', u'God', u'bless', u'America.', u'Thank', u'you.', u'God', u'bless', u'America.']\n"
     ]
    }
   ],
   "source": [
    "words = speech.split(\" \")\n",
    "print (words)"
   ]
  },
  {
   "cell_type": "code",
   "execution_count": 12,
   "metadata": {
    "collapsed": true
   },
   "outputs": [],
   "source": [
    "# list comprehension\n",
    "\n",
    "words = [x.lower() for x in words]"
   ]
  },
  {
   "cell_type": "code",
   "execution_count": null,
   "metadata": {
    "collapsed": true
   },
   "outputs": [],
   "source": []
  },
  {
   "cell_type": "code",
   "execution_count": 13,
   "metadata": {
    "collapsed": false
   },
   "outputs": [
    {
     "name": "stdout",
     "output_type": "stream",
     "text": [
      "[(u'and', 74), (u'the', 70), (u'our', 48), (u'of', 48), (u'will', 43), (u'to', 37), (u'we', 37), (u'is', 20), (u'a', 15), (u'all', 14), (u'in', 14), (u'are', 13), (u'be', 13), (u'for', 12), (u'from', 11), (u'their', 11), (u'your', 11), (u'but', 11), (u'american', 10), (u'america', 10), (u'not', 10), (u'this', 9), (u'that', 9), (u'it', 8), (u'with', 8), (u'people', 7), (u'new', 6), (u'same', 6), (u'great', 6), (u'by', 6)]\n"
     ]
    }
   ],
   "source": [
    "from collections import Counter\n",
    "\n",
    "counting_words = Counter(words)\n",
    "\n",
    "print counting_words.most_common(30)"
   ]
  }
 ],
 "metadata": {
  "kernelspec": {
   "display_name": "Python 2",
   "language": "python",
   "name": "python2"
  },
  "language_info": {
   "codemirror_mode": {
    "name": "ipython",
    "version": 2
   },
   "file_extension": ".py",
   "mimetype": "text/x-python",
   "name": "python",
   "nbconvert_exporter": "python",
   "pygments_lexer": "ipython2",
   "version": "2.7.14"
  }
 },
 "nbformat": 4,
 "nbformat_minor": 2
}
